{
 "cells": [
  {
   "cell_type": "code",
   "execution_count": 38,
   "metadata": {
    "collapsed": true
   },
   "outputs": [
    {
     "name": "stdout",
     "output_type": "stream",
     "text": [
      "total daily emotion readings 18\n",
      "total positive morning 14\n",
      "total negative morning 4\n",
      "total positive night 12\n",
      "total negative night 6\n",
      "#Participants whose end of day total emotion had reduced since start of day 14\n",
      "#Participants whose start of day total emotion had increased since end of previous day 12\n"
     ]
    }
   ],
   "source": [
    "import pandas as pd\n",
    "import matplotlib.pyplot as plt\n",
    "import numpy as np\n",
    "from matplotlib.dates import DateFormatter\n",
    "from IPython.display import display\n",
    "from datetime import datetime\n",
    "# Load the PANAS data from the csv file\n",
    "\n",
    "dateparse = lambda x: datetime.strptime(x, \"%m/%d/%Y %H:%M:%S\")\n",
    "\n",
    "#load dataframe from csv\n",
    "df = pd.read_csv(\"../data/panas_data.csv\",parse_dates=['Timestamp'], date_parser=dateparse)\n",
    "\n",
    "variable_dict = {\n",
    "'Timestamp':'TIMESTAMP',\n",
    "'Pair':'PAIR',\n",
    "'Identifier': 'ID',\n",
    "'Time of Day': 'WHEN_RECORDED',\n",
    "'How many hours did you sleep last night? (beginning of day only)':\t'SLEEP',\n",
    "'Upset':'UPSET',\n",
    "'Hostile':'HOSTILE',\n",
    "'Alert':'ALERT',\n",
    "'Ashamed':'ASHAMED',\n",
    "'Inspired': 'INSPIRED',\n",
    "'Nervous':'NERVOUS',\n",
    "'Determined':'DETERMINED',\n",
    "'Attentive':'ATTENTIVE',\n",
    "'Afraid':'AFRAID',\n",
    "'Active':'ACTIVE',\n",
    "'Any comments / thoughts?':'COMMENTS',\n",
    "'Positive':'POSITIVE_SCORE',\n",
    "'Negative':'NEGATIVE_SCORE',\n",
    "'Difference':'SCORE_DIFFERENCE'}\n",
    "\n",
    "df_clean = df.rename(columns=variable_dict)\n",
    "\n",
    "df_clean = df_clean.loc[(~df_clean['PAIR'].isnull())]\n",
    "df_clean = df_clean.sort_values(['PAIR','TIMESTAMP'])\n",
    "unique_pairs = df_clean.PAIR.nunique()\n",
    "print(\"total daily emotion readings\", unique_pairs)\n",
    "\n",
    "# count number of times day started positive\n",
    "#df.loc[(df['col1'] == value) & (df['col2'] < value)]\n",
    "pos_start_day = len(df_clean.loc[(df_clean.SCORE_DIFFERENCE > 0) & (df_clean.WHEN_RECORDED == 'Beginning of Day')])\n",
    "neg_start_day = unique_pairs - pos_start_day\n",
    "print(\"total positive morning\", pos_start_day)\n",
    "print(\"total negative morning\", neg_start_day)\n",
    "\n",
    "pos_end_day = len(df_clean.loc[(df_clean.SCORE_DIFFERENCE > 0) & (df_clean.WHEN_RECORDED == 'End of Day')])\n",
    "neg_end_day = unique_pairs - pos_end_day\n",
    "print(\"total positive night\", pos_end_day)\n",
    "print(\"total negative night\", neg_end_day)\n",
    "\n",
    "#print(df_clean.sort_values(['PAIR','TIMESTAMP']))\n",
    "#print(df_clean[['TIMESTAMP','SCORE_DIFFERENCE']].diff())\n",
    "\n",
    "# now look at differences between start and end of day\n",
    "\n",
    "\n",
    "df_clean['EOD_DIFFERENCE'] = df_clean[['TIMESTAMP','SCORE_DIFFERENCE']].diff()['SCORE_DIFFERENCE']\n",
    "#print(df_clean[['PAIR','WHEN_RECORDED','SCORE_DIFFERENCE','EOD_DIFFERENCE']])\n",
    "print('#Participants whose end of day total emotion had reduced since start of day', len(df_clean.loc[(df_clean.WHEN_RECORDED =='End of Day') & (df_clean.EOD_DIFFERENCE <0)]))\n",
    "\n",
    "# and differences from start of day and end of previous night\n",
    "print('#Participants whose start of day total emotion had increased since end of previous day', len(df_clean.loc[(df_clean.WHEN_RECORDED =='Beginning of Day') & (df_clean.EOD_DIFFERENCE >0)]))\n"
   ]
  },
  {
   "cell_type": "code",
   "execution_count": 31,
   "outputs": [],
   "source": [],
   "metadata": {
    "collapsed": false,
    "pycharm": {
     "name": "#%%\n"
    }
   }
  },
  {
   "cell_type": "code",
   "execution_count": 31,
   "outputs": [],
   "source": [],
   "metadata": {
    "collapsed": false,
    "pycharm": {
     "name": "#%%\n"
    }
   }
  },
  {
   "cell_type": "code",
   "execution_count": null,
   "outputs": [],
   "source": [],
   "metadata": {
    "collapsed": false,
    "pycharm": {
     "name": "#%%\n"
    }
   }
  }
 ],
 "metadata": {
  "kernelspec": {
   "display_name": "Python 3",
   "language": "python",
   "name": "python3"
  },
  "language_info": {
   "codemirror_mode": {
    "name": "ipython",
    "version": 2
   },
   "file_extension": ".py",
   "mimetype": "text/x-python",
   "name": "python",
   "nbconvert_exporter": "python",
   "pygments_lexer": "ipython2",
   "version": "2.7.6"
  }
 },
 "nbformat": 4,
 "nbformat_minor": 0
}