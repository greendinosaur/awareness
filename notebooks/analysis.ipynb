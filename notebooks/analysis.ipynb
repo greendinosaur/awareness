{
 "cells": [
  {
   "cell_type": "code",
   "execution_count": 89,
   "metadata": {
    "collapsed": true
   },
   "outputs": [],
   "source": [
    "import pandas as pd\n",
    "import matplotlib.pyplot as plt\n",
    "import numpy as np\n",
    "from matplotlib.dates import DateFormatter\n",
    "from IPython.display import display\n",
    "from datetime import datetime\n",
    "from textblob import TextBlob\n",
    "from textblob.classifiers import NaiveBayesClassifier\n",
    "\n",
    "# Load the PANAS data from the csv file\n",
    "\n",
    "dateparse = lambda x: datetime.strptime(x, \"%m/%d/%Y %H:%M:%S\")\n",
    "\n",
    "#load dataframe from csv\n",
    "df = pd.read_csv(\"../data/panas_data_new.csv\",parse_dates=['Timestamp'], date_parser=dateparse)\n",
    "\n",
    "variable_dict = {\n",
    "'Timestamp':'TIMESTAMP',\n",
    "'Pair':'PAIR',\n",
    "'Identifier': 'ID',\n",
    "'Time of Day': 'WHEN_RECORDED',\n",
    "'How many hours did you sleep last night? (beginning of day only)':\t'SLEEP',\n",
    "'Upset':'UPSET',\n",
    "'Hostile':'HOSTILE',\n",
    "'Alert':'ALERT',\n",
    "'Ashamed':'ASHAMED',\n",
    "'Inspired': 'INSPIRED',\n",
    "'Nervous':'NERVOUS',\n",
    "'Determined':'DETERMINED',\n",
    "'Attentive':'ATTENTIVE',\n",
    "'Afraid':'AFRAID',\n",
    "'Active':'ACTIVE',\n",
    "'Any comments / thoughts?':'COMMENTS',\n",
    "'Positive':'POSITIVE_SCORE',\n",
    "'Negative':'NEGATIVE_SCORE',\n",
    "'Difference':'SCORE_DIFFERENCE'}\n",
    "\n",
    "df_daily_emotion = df.rename(columns=variable_dict)\n",
    "df_daily_emotion.dropna(how='all', axis=1, inplace=True)\n",
    "\n",
    "# Before getting only the paired data, identify the total number of records\n",
    "total_num_daily_emotion = len(df_daily_emotion)\n",
    "df_daily_emotion = df_daily_emotion.loc[(~df_daily_emotion['PAIR'].isnull())]\n",
    "df_daily_emotion = df_daily_emotion.sort_values(['PAIR','TIMESTAMP'])\n",
    "\n"
   ]
  },
  {
   "cell_type": "markdown",
   "source": [
    "# Descriptive Statistics"
   ],
   "metadata": {
    "collapsed": false,
    "pycharm": {
     "name": "#%% md\n"
    }
   }
  },
  {
   "cell_type": "markdown",
   "source": [
    "## Daily Emotion"
   ],
   "metadata": {
    "collapsed": false,
    "pycharm": {
     "name": "#%% md\n"
    }
   }
  },
  {
   "cell_type": "code",
   "execution_count": 90,
   "outputs": [],
   "source": [
    "### Number of Daily emotion records\n"
   ],
   "metadata": {
    "collapsed": false,
    "pycharm": {
     "name": "#%%\n"
    }
   }
  },
  {
   "cell_type": "code",
   "execution_count": 91,
   "outputs": [
    {
     "name": "stdout",
     "output_type": "stream",
     "text": [
      "total daily emotion records 36\n",
      "total paired start day/end of day daily emotion records 18\n"
     ]
    }
   ],
   "source": [
    "\n",
    "\n",
    "#print(\"total daily emotion records: \", unique_pairs)\n",
    "\n",
    "# want to ignore blank entries for the pairing so get them first\n",
    "\n",
    "pairs_df = df_daily_emotion.groupby(['PAIR']).agg(num_pairs=pd.NamedAgg(column='PAIR', aggfunc='count'))\n",
    "unique_pairs = len(pairs_df.loc[(pairs_df.num_pairs == 2)])\n",
    "\n",
    "print('total daily emotion records', len(df_daily_emotion))\n",
    "print('total paired start day/end of day daily emotion records',unique_pairs)\n",
    "\n",
    "#print('total after break daily emotion records',len(df_clean.loc[(df_clean.WHEN_RECORDED == 'End of Day')]))\n"
   ],
   "metadata": {
    "collapsed": false,
    "pycharm": {
     "name": "#%%\n"
    }
   }
  },
  {
   "cell_type": "markdown",
   "source": [
    "### Daily emotion scores"
   ],
   "metadata": {
    "collapsed": false,
    "pycharm": {
     "name": "#%% md\n"
    }
   }
  },
  {
   "cell_type": "code",
   "execution_count": 92,
   "outputs": [
    {
     "name": "stdout",
     "output_type": "stream",
     "text": [
      "total positive morning:  14\n",
      "total negative morning:  4\n",
      "total positive night:  12\n",
      "total negative night:  6\n"
     ]
    }
   ],
   "source": [
    "\n",
    "# count number of times day started positive\n",
    "#df.loc[(df['col1'] == value) & (df['col2'] < value)]\n",
    "pos_start_day = len(df_daily_emotion.loc[(df_daily_emotion.SCORE_DIFFERENCE > 0) & (df_daily_emotion.WHEN_RECORDED == 'Beginning of Day')])\n",
    "neg_start_day = unique_pairs - pos_start_day\n",
    "print(\"total positive morning: \", pos_start_day)\n",
    "print(\"total negative morning: \", neg_start_day)\n",
    "\n",
    "pos_end_day = len(df_daily_emotion.loc[(df_daily_emotion.SCORE_DIFFERENCE > 0) & (df_daily_emotion.WHEN_RECORDED == 'End of Day')])\n",
    "neg_end_day = unique_pairs - pos_end_day\n",
    "print(\"total positive night: \", pos_end_day)\n",
    "print(\"total negative night: \", neg_end_day)\n",
    "\n",
    "#print(df_clean.sort_values(['PAIR','TIMESTAMP']))\n",
    "#print(df_clean[['TIMESTAMP','SCORE_DIFFERENCE']].diff())\n",
    "\n",
    "\n"
   ],
   "metadata": {
    "collapsed": false,
    "pycharm": {
     "name": "#%%\n"
    }
   }
  },
  {
   "cell_type": "markdown",
   "source": [
    "### Differences in consecutive PANAS ratings"
   ],
   "metadata": {
    "collapsed": false,
    "pycharm": {
     "name": "#%% md\n"
    }
   }
  },
  {
   "cell_type": "code",
   "execution_count": 93,
   "outputs": [
    {
     "name": "stdout",
     "output_type": "stream",
     "text": [
      "#Participants whose end of day total emotion had reduced since start of day:  14\n",
      "#Participants whose start of day total emotion had increased since end of previous day:  12\n"
     ]
    }
   ],
   "source": [
    "#now look at differences between start and end of day\n",
    "df_daily_emotion['DELTA_PREV_DIFFERENCE'] = df_daily_emotion[['TIMESTAMP','SCORE_DIFFERENCE']].diff()['SCORE_DIFFERENCE']\n",
    "#print(df_clean[['PAIR','WHEN_RECORDED','SCORE_DIFFERENCE','DELTA_PREV_DIFFERENCE']])\n",
    "print('#Participants whose end of day total emotion had reduced since start of day: ', len(df_daily_emotion.loc[(df_daily_emotion.WHEN_RECORDED =='End of Day') & (df_daily_emotion.DELTA_PREV_DIFFERENCE <0)]))\n",
    "\n",
    "# and differences from start of day and end of previous night\n",
    "print('#Participants whose start of day total emotion had increased since end of previous day: ', len(df_daily_emotion.loc[(df_daily_emotion.WHEN_RECORDED =='Beginning of Day') & (df_daily_emotion.DELTA_PREV_DIFFERENCE >0)]))\n",
    "\n"
   ],
   "metadata": {
    "collapsed": false,
    "pycharm": {
     "name": "#%%\n"
    }
   }
  },
  {
   "cell_type": "markdown",
   "source": [
    "### Sleep distribution"
   ],
   "metadata": {
    "collapsed": false,
    "pycharm": {
     "name": "#%% md\n"
    }
   }
  },
  {
   "cell_type": "code",
   "execution_count": 94,
   "outputs": [
    {
     "name": "stdout",
     "output_type": "stream",
     "text": [
      "Sleep distribution: avg 6.870555555555556, std 0.879414726643754\n"
     ]
    }
   ],
   "source": [
    "\n",
    "print(\"Sleep distribution: avg {}, std {}\".format(str(df_daily_emotion.SLEEP.mean()), str(df_daily_emotion.SLEEP.std())))\n"
   ],
   "metadata": {
    "collapsed": false,
    "pycharm": {
     "name": "#%%\n"
    }
   }
  },
  {
   "cell_type": "code",
   "execution_count": 95,
   "outputs": [],
   "source": [
    "# save the cleaned up data along with the emotion differences\n",
    "df_daily_emotion.to_csv('../data/clean_daily_emotion.csv', index=False)"
   ],
   "metadata": {
    "collapsed": false,
    "pycharm": {
     "name": "#%%\n"
    }
   }
  },
  {
   "cell_type": "markdown",
   "source": [
    "## Experience Sample Data"
   ],
   "metadata": {
    "collapsed": false,
    "pycharm": {
     "name": "#%% md\n"
    }
   }
  },
  {
   "cell_type": "code",
   "execution_count": 96,
   "outputs": [],
   "source": [
    "# now analyse the experience sample data\n",
    "df_exp = pd.read_csv(\"../data/experience_sample_data_new.csv\",parse_dates=['Timestamp'], date_parser=dateparse)\n",
    "\n",
    "exp_variable_dict = {'Timestamp':'TIMESTAMP','Personal ID':'ID','Before-After break pairings':'PAIR','Before / After a break':'RELATION_BEAK','Duration of break activity (MINUTES)':'BREAK_DURATION', 'Current Perceived Stress Level':\"PERCEIVED_STRESS\",'Current Actual Stress Level':'GARMIN_STRESS','Activity Prior to Break Activity':'ACTIVITY_PRIOR_BREAK','Details of Break Activity':'BREAK_DETAILS','Was the break physically active?':'BREAK_PHYSICAL','Was the break indoors or outdoors?':'BREAK_LOCATION','Was the break alone or social?':'BREAK_SOCIAL','If it involved an electronic device, provide details':'BREAK_ELECTRONIC_DEVICE','Do you think the break activity helped?':'BREAK_HELPED','Date and Time of activity':'ACTUAL_ACTIVITY_TIME','Arousal/Valence [Aroused 2]':'AROUSAL_2','Arousal/Valence [Aroused 1]':'AROUSAL_1','Arousal/Valence [Aroused 0]':'AROUSAL_0','Arousal/Valence [Aroused -1]':'AROUSAL_-1','Arousal/Valence [Aroused -2]':'AROUSAL_-2','Adjectives / feelings':'FEELINGS','Why are you taking a break or why did you take a break?':'BREAK_REASON'}\n",
    "\n",
    "# update columns names and remove the empty columns\n",
    "df_clean_exp = df_exp.rename(columns=exp_variable_dict)\n",
    "df_clean_exp.dropna(how='all', axis=1, inplace=True)\n",
    "df_clean_exp['BREAK_ELECTRONIC_DEVICE'] = df_clean_exp['BREAK_ELECTRONIC_DEVICE'].replace(np.nan, '-')\n",
    "df_clean_exp['BREAK_PHYSICAL'] = df_clean_exp['BREAK_PHYSICAL'].replace(np.nan, '-')\n",
    "df_clean_exp['BREAK_LOCATION'] = df_clean_exp['BREAK_LOCATION'].replace(np.nan, '-')\n",
    "df_clean_exp['BREAK_SOCIAL'] = df_clean_exp['BREAK_SOCIAL'].replace(np.nan, '-')\n",
    "\n"
   ],
   "metadata": {
    "collapsed": false,
    "pycharm": {
     "name": "#%%\n"
    }
   }
  },
  {
   "cell_type": "markdown",
   "source": [
    "### Unique before/after reports"
   ],
   "metadata": {
    "collapsed": false,
    "pycharm": {
     "name": "#%% md\n"
    }
   }
  },
  {
   "cell_type": "code",
   "execution_count": 97,
   "outputs": [
    {
     "name": "stdout",
     "output_type": "stream",
     "text": [
      "total number of records:  110\n",
      "unique pairs of before/after records:  45\n",
      "total after break records: 54\n"
     ]
    }
   ],
   "source": [
    "pairs_exp_df = df_clean_exp.groupby(['PAIR']).agg(num_pairs=pd.NamedAgg(column='PAIR', aggfunc='count'))\n",
    "unique_exp_pairs = len(pairs_exp_df.loc[(pairs_exp_df.num_pairs == 2)])\n",
    "\n",
    "print(\"total number of records: \", len(df_clean_exp))\n",
    "print(\"unique pairs of before/after records: \", unique_exp_pairs)\n",
    "print(\"total after break records:\", len(df_clean_exp.loc[(df_clean_exp.RELATION_BEAK =='After break')]))\n"
   ],
   "metadata": {
    "collapsed": false,
    "pycharm": {
     "name": "#%%\n"
    }
   }
  },
  {
   "cell_type": "markdown",
   "source": [
    "### Break details"
   ],
   "metadata": {
    "collapsed": false,
    "pycharm": {
     "name": "#%% md\n"
    }
   }
  },
  {
   "cell_type": "code",
   "execution_count": 98,
   "outputs": [
    {
     "name": "stdout",
     "output_type": "stream",
     "text": [
      "Break duration distribution: avg 43.15942028985507, std 30.100626917648487\n"
     ]
    }
   ],
   "source": [
    "# avg break duration\n",
    "print(\"Break duration distribution: avg {}, std {}\".format(str(df_clean_exp.BREAK_DURATION.mean()), str(df_clean_exp.BREAK_DURATION.std())))"
   ],
   "metadata": {
    "collapsed": false,
    "pycharm": {
     "name": "#%%\n"
    }
   }
  },
  {
   "cell_type": "code",
   "execution_count": 99,
   "outputs": [
    {
     "name": "stdout",
     "output_type": "stream",
     "text": [
      "BREAK_PHYSICAL\n",
      "-           8\n",
      "No         29\n",
      "Yes        16\n",
      "Yes, No     1\n",
      "Name: BREAK_PHYSICAL, dtype: int64\n"
     ]
    }
   ],
   "source": [
    "\n",
    "print(df_clean_exp.loc[(df_clean_exp.RELATION_BEAK =='After break')].groupby(['BREAK_PHYSICAL'])['BREAK_PHYSICAL'].count())"
   ],
   "metadata": {
    "collapsed": false,
    "pycharm": {
     "name": "#%%\n"
    }
   }
  },
  {
   "cell_type": "code",
   "execution_count": 100,
   "outputs": [
    {
     "name": "stdout",
     "output_type": "stream",
     "text": [
      "BREAK_SOCIAL\n",
      "-                      6\n",
      "Alone                 36\n",
      "Alone, With others     5\n",
      "With others            7\n",
      "Name: BREAK_SOCIAL, dtype: int64\n"
     ]
    }
   ],
   "source": [
    "\n",
    "print(df_clean_exp.loc[(df_clean_exp.RELATION_BEAK =='After break')].groupby(['BREAK_SOCIAL'])['BREAK_SOCIAL'].count())"
   ],
   "metadata": {
    "collapsed": false,
    "pycharm": {
     "name": "#%%\n"
    }
   }
  },
  {
   "cell_type": "code",
   "execution_count": 101,
   "outputs": [
    {
     "name": "stdout",
     "output_type": "stream",
     "text": [
      "BREAK_ELECTRONIC_DEVICE\n",
      "-           17\n",
      "Phone       26\n",
      "Tablet       2\n",
      "computer     9\n",
      "Name: BREAK_ELECTRONIC_DEVICE, dtype: int64\n"
     ]
    }
   ],
   "source": [
    "\n",
    "print(df_clean_exp.loc[(df_clean_exp.RELATION_BEAK =='After break')].groupby(['BREAK_ELECTRONIC_DEVICE'])['BREAK_ELECTRONIC_DEVICE'].count())"
   ],
   "metadata": {
    "collapsed": false,
    "pycharm": {
     "name": "#%%\n"
    }
   }
  },
  {
   "cell_type": "markdown",
   "source": [],
   "metadata": {
    "collapsed": false,
    "pycharm": {
     "name": "#%% md\n"
    }
   }
  },
  {
   "cell_type": "code",
   "execution_count": 102,
   "outputs": [
    {
     "name": "stdout",
     "output_type": "stream",
     "text": [
      "BREAK_LOCATION\n",
      "-                                 6\n",
      "Indoors                          29\n",
      "Mixture of indoor and outdoor     7\n",
      "Outdoors                         12\n",
      "Name: BREAK_LOCATION, dtype: int64\n"
     ]
    }
   ],
   "source": [
    "print(df_clean_exp.loc[(df_clean_exp.RELATION_BEAK =='After break')].groupby(['BREAK_LOCATION'])['BREAK_LOCATION'].count())"
   ],
   "metadata": {
    "collapsed": false,
    "pycharm": {
     "name": "#%%\n"
    }
   }
  },
  {
   "cell_type": "code",
   "execution_count": 103,
   "outputs": [
    {
     "name": "stdout",
     "output_type": "stream",
     "text": [
      "                                                                                         ID  \\\n",
      "BREAK_PHYSICAL BREAK_LOCATION                BREAK_SOCIAL       BREAK_ELECTRONIC_DEVICE       \n",
      "-              -                             -                  -                         6   \n",
      "               Indoors                       Alone              -                         1   \n",
      "                                                                Phone                     1   \n",
      "No             Indoors                       Alone              Phone                    11   \n",
      "                                                                computer                  5   \n",
      "                                             Alone, With others Phone                     3   \n",
      "                                             With others        Phone                     1   \n",
      "                                                                computer                  1   \n",
      "               Mixture of indoor and outdoor Alone              Phone                     1   \n",
      "                                                                computer                  1   \n",
      "               Outdoors                      Alone              Phone                     5   \n",
      "                                             With others        -                         1   \n",
      "Yes            Indoors                       Alone              -                         1   \n",
      "                                                                Phone                     1   \n",
      "                                                                Tablet                    2   \n",
      "                                                                computer                  1   \n",
      "               Mixture of indoor and outdoor Alone              -                         1   \n",
      "                                             Alone, With others -                         1   \n",
      "                                                                Phone                     1   \n",
      "                                             With others        -                         2   \n",
      "               Outdoors                      Alone              -                         2   \n",
      "                                                                Phone                     2   \n",
      "                                             With others        -                         2   \n",
      "Yes, No        Indoors                       Alone              computer                  1   \n",
      "\n",
      "                                                                                          % Breaks  \n",
      "BREAK_PHYSICAL BREAK_LOCATION                BREAK_SOCIAL       BREAK_ELECTRONIC_DEVICE             \n",
      "-              -                             -                  -                        11.111111  \n",
      "               Indoors                       Alone              -                         1.851852  \n",
      "                                                                Phone                     1.851852  \n",
      "No             Indoors                       Alone              Phone                    20.370370  \n",
      "                                                                computer                  9.259259  \n",
      "                                             Alone, With others Phone                     5.555556  \n",
      "                                             With others        Phone                     1.851852  \n",
      "                                                                computer                  1.851852  \n",
      "               Mixture of indoor and outdoor Alone              Phone                     1.851852  \n",
      "                                                                computer                  1.851852  \n",
      "               Outdoors                      Alone              Phone                     9.259259  \n",
      "                                             With others        -                         1.851852  \n",
      "Yes            Indoors                       Alone              -                         1.851852  \n",
      "                                                                Phone                     1.851852  \n",
      "                                                                Tablet                    3.703704  \n",
      "                                                                computer                  1.851852  \n",
      "               Mixture of indoor and outdoor Alone              -                         1.851852  \n",
      "                                             Alone, With others -                         1.851852  \n",
      "                                                                Phone                     1.851852  \n",
      "                                             With others        -                         3.703704  \n",
      "               Outdoors                      Alone              -                         3.703704  \n",
      "                                                                Phone                     3.703704  \n",
      "                                             With others        -                         3.703704  \n",
      "Yes, No        Indoors                       Alone              computer                  1.851852  \n"
     ]
    }
   ],
   "source": [
    "df_clean_exp['BREAK_ELECTRONIC_DEVICE'] = df_clean_exp['BREAK_ELECTRONIC_DEVICE'].replace(np.nan, '-')\n",
    "df_clean_exp['BREAK_PHYSICAL'] = df_clean_exp['BREAK_PHYSICAL'].replace(np.nan, '-')\n",
    "df_clean_exp['BREAK_LOCATION'] = df_clean_exp['BREAK_LOCATION'].replace(np.nan, '-')\n",
    "df_clean_exp['BREAK_SOCIAL'] = df_clean_exp['BREAK_SOCIAL'].replace(np.nan, '-')\n",
    "\n",
    "#print(df_clean_exp.loc[(df_clean_exp.RELATION_BEAK =='After break')].groupby(['BREAK_PHYSICAL','BREAK_LOCATION','BREAK_SOCIAL','BREAK_ELECTRONIC_DEVICE'], dropna=False)['BREAK_ELECTRONIC_DEVICE'].count())\n",
    "\n",
    "table = pd.pivot_table(data=df_clean_exp.loc[(df_clean_exp.RELATION_BEAK =='After break')],index=['BREAK_PHYSICAL','BREAK_LOCATION','BREAK_SOCIAL','BREAK_ELECTRONIC_DEVICE'], values=['ID'],aggfunc='count', dropna=True)\n",
    "\n",
    "table['% Breaks'] = (table['ID']/table['ID'].sum())*100\n",
    "print(table)"
   ],
   "metadata": {
    "collapsed": false,
    "pycharm": {
     "name": "#%%\n"
    }
   }
  },
  {
   "cell_type": "markdown",
   "source": [
    "### Reported and Perceived Stress Levels"
   ],
   "metadata": {
    "collapsed": false,
    "pycharm": {
     "name": "#%% md\n"
    }
   }
  },
  {
   "cell_type": "code",
   "execution_count": 104,
   "outputs": [
    {
     "name": "stdout",
     "output_type": "stream",
     "text": [
      "PERCEIVED_STRESS  GARMIN_STRESS   \n",
      "High              High (76 - 100)      1\n",
      "                  Medium (51 - 75)     1\n",
      "                  Rest (0 - 25)        2\n",
      "Low               High (76 - 100)      9\n",
      "                  Low (26 - 50)       26\n",
      "                  Medium (51 - 75)     8\n",
      "                  Rest (0 - 25)       17\n",
      "Medium            High (76 - 100)      5\n",
      "                  Low (26 - 50)       15\n",
      "                  Medium (51 - 75)     7\n",
      "                  Rest (0 - 25)        7\n",
      "Rest              Low (26 - 50)        1\n",
      "                  Medium (51 - 75)     1\n",
      "                  Rest (0 - 25)       10\n",
      "Name: PERCEIVED_STRESS, dtype: int64\n"
     ]
    }
   ],
   "source": [
    "\n",
    "print(df_clean_exp.groupby(['PERCEIVED_STRESS','GARMIN_STRESS'])['PERCEIVED_STRESS'].count())\n"
   ],
   "metadata": {
    "collapsed": false,
    "pycharm": {
     "name": "#%%\n"
    }
   }
  },
  {
   "cell_type": "markdown",
   "source": [
    "### Number breaks reports per day"
   ],
   "metadata": {
    "collapsed": false,
    "pycharm": {
     "name": "#%% md\n"
    }
   }
  },
  {
   "cell_type": "code",
   "execution_count": 105,
   "outputs": [
    {
     "name": "stdout",
     "output_type": "stream",
     "text": [
      "TIMESTAMP\n",
      "2022-05-13     4\n",
      "2022-05-14     2\n",
      "2022-05-15     4\n",
      "2022-05-16    20\n",
      "2022-05-17    15\n",
      "2022-05-18    18\n",
      "2022-05-19    11\n",
      "2022-05-20     9\n",
      "2022-05-21     4\n",
      "2022-05-22     0\n",
      "2022-05-23    19\n",
      "2022-05-24     4\n",
      "Freq: D, Name: TIMESTAMP, dtype: int64\n"
     ]
    }
   ],
   "source": [
    "# number breaks reported per day\n",
    "print(df_clean_exp.groupby(pd.Grouper(key=\"TIMESTAMP\", freq=\"D\"))['TIMESTAMP'].count())"
   ],
   "metadata": {
    "collapsed": false,
    "pycharm": {
     "name": "#%%\n"
    }
   }
  },
  {
   "cell_type": "code",
   "execution_count": 105,
   "outputs": [],
   "source": [],
   "metadata": {
    "collapsed": false,
    "pycharm": {
     "name": "#%%\n"
    }
   }
  },
  {
   "cell_type": "markdown",
   "source": [
    "### Number after breaks reports per person"
   ],
   "metadata": {
    "collapsed": false,
    "pycharm": {
     "name": "#%% md\n"
    }
   }
  },
  {
   "cell_type": "code",
   "execution_count": 106,
   "outputs": [
    {
     "name": "stdout",
     "output_type": "stream",
     "text": [
      "ID\n",
      "Cameron     9\n",
      "Jason       9\n",
      "Katie      19\n",
      "VJ          8\n",
      "nadia       8\n",
      "nadia       1\n",
      "Name: ID, dtype: int64\n"
     ]
    }
   ],
   "source": [
    "\n",
    "\n",
    "print(df_clean_exp.loc[(df_clean_exp.RELATION_BEAK =='After break')].groupby(['ID'])['ID'].count())\n",
    "\n",
    "\n"
   ],
   "metadata": {
    "collapsed": false,
    "pycharm": {
     "name": "#%%\n"
    }
   }
  },
  {
   "cell_type": "code",
   "execution_count": 108,
   "outputs": [
    {
     "name": "stdout",
     "output_type": "stream",
     "text": [
      "Sentiment of break helped distribution: avg 0.1509803921568627, std 0.28480449951006126\n",
      "Sentiment distribution before break: avg -0.09090909090909091, std 1.005037815259212\n",
      "Sentiment distribution after break: avg 0.5925925925925926, std 0.8130659078513455\n"
     ]
    }
   ],
   "source": [
    "# Sentiment analysis\n",
    "with open('../data/feelings_training.csv', 'r') as fp:\n",
    "    cl = NaiveBayesClassifier(fp, format=\"csv\")\n",
    "\n",
    "def get_sentiment(x):\n",
    "    if type(x) is str:\n",
    "        #print('value: ', x)\n",
    "        #print('sentiment: ', TextBlob(x).sentiment.subjectivity)\n",
    "        return TextBlob(x).sentiment.polarity\n",
    "\n",
    "def get_custom_sentiment(x):\n",
    "    if type(x) is str:\n",
    "        result = cl.classify(x)\n",
    "        if result=='pos':\n",
    "            return 1\n",
    "        elif result == 'neg':\n",
    "            return -1\n",
    "        return 0\n",
    "\n",
    "df_sentiment = df_clean_exp['BREAK_HELPED'].apply(get_sentiment)\n",
    "\n",
    "df_clean_exp['SENTIMENT_BREAK_HELPED'] = df_clean_exp['BREAK_HELPED'].apply(get_sentiment)\n",
    "\n",
    "# now calc the average sentiment, and the std deviation, ignore NaN\n",
    "print(\"Sentiment of break helped distribution: avg {}, std {}\".format(str(df_clean_exp.SENTIMENT_BREAK_HELPED.mean()), str(df_clean_exp.SENTIMENT_BREAK_HELPED.std())))\n",
    "\n",
    "\n",
    "df_clean_exp['SENTIMENT_FEELINGS'] = df_clean_exp['FEELINGS'].apply(get_custom_sentiment)\n",
    "\n",
    "# now calc the average sentiment, and the std deviation, ignore NaN\n",
    "print(\"Sentiment distribution before break: avg {}, std {}\".format(str(df_clean_exp.loc[(df_clean_exp.RELATION_BEAK =='Before break')].SENTIMENT_FEELINGS.mean()), str(df_clean_exp.loc[(df_clean_exp.RELATION_BEAK =='Before break')].SENTIMENT_FEELINGS.std())))\n",
    "print(\"Sentiment distribution after break: avg {}, std {}\".format(str(df_clean_exp.loc[(df_clean_exp.RELATION_BEAK =='After break')].SENTIMENT_FEELINGS.mean()), str(df_clean_exp.loc[(df_clean_exp.RELATION_BEAK =='After break')].SENTIMENT_FEELINGS.std())))\n",
    "\n",
    "df_clean_exp.to_csv('../data/clean_experience_sample.csv', index=False)\n"
   ],
   "metadata": {
    "collapsed": false,
    "pycharm": {
     "name": "#%%\n"
    }
   }
  },
  {
   "cell_type": "markdown",
   "source": [],
   "metadata": {
    "collapsed": false,
    "pycharm": {
     "name": "#%% md\n"
    }
   }
  }
 ],
 "metadata": {
  "kernelspec": {
   "display_name": "Python 3",
   "language": "python",
   "name": "python3"
  },
  "language_info": {
   "codemirror_mode": {
    "name": "ipython",
    "version": 2
   },
   "file_extension": ".py",
   "mimetype": "text/x-python",
   "name": "python",
   "nbconvert_exporter": "python",
   "pygments_lexer": "ipython2",
   "version": "2.7.6"
  }
 },
 "nbformat": 4,
 "nbformat_minor": 0
}