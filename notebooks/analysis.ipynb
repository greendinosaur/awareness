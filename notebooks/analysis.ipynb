{
 "cells": [
  {
   "cell_type": "code",
   "execution_count": 162,
   "metadata": {
    "collapsed": true
   },
   "outputs": [],
   "source": [
    "import pandas as pd\n",
    "import matplotlib.pyplot as plt\n",
    "import numpy as np\n",
    "from matplotlib.dates import DateFormatter\n",
    "from IPython.display import display\n",
    "from datetime import datetime\n",
    "# Load the PANAS data from the csv file\n",
    "\n",
    "dateparse = lambda x: datetime.strptime(x, \"%m/%d/%Y %H:%M:%S\")\n",
    "\n",
    "#load dataframe from csv\n",
    "df = pd.read_csv(\"../data/panas_data.csv\",parse_dates=['Timestamp'], date_parser=dateparse)\n",
    "\n",
    "variable_dict = {\n",
    "'Timestamp':'TIMESTAMP',\n",
    "'Pair':'PAIR',\n",
    "'Identifier': 'ID',\n",
    "'Time of Day': 'WHEN_RECORDED',\n",
    "'How many hours did you sleep last night? (beginning of day only)':\t'SLEEP',\n",
    "'Upset':'UPSET',\n",
    "'Hostile':'HOSTILE',\n",
    "'Alert':'ALERT',\n",
    "'Ashamed':'ASHAMED',\n",
    "'Inspired': 'INSPIRED',\n",
    "'Nervous':'NERVOUS',\n",
    "'Determined':'DETERMINED',\n",
    "'Attentive':'ATTENTIVE',\n",
    "'Afraid':'AFRAID',\n",
    "'Active':'ACTIVE',\n",
    "'Any comments / thoughts?':'COMMENTS',\n",
    "'Positive':'POSITIVE_SCORE',\n",
    "'Negative':'NEGATIVE_SCORE',\n",
    "'Difference':'SCORE_DIFFERENCE'}\n",
    "\n",
    "df_clean = df.rename(columns=variable_dict)\n",
    "df_clean.dropna(how='all', axis=1, inplace=True)\n",
    "\n",
    "df_clean = df_clean.loc[(~df_clean['PAIR'].isnull())]\n",
    "df_clean = df_clean.sort_values(['PAIR','TIMESTAMP'])\n"
   ]
  },
  {
   "cell_type": "markdown",
   "source": [
    "# Descriptive Statistics"
   ],
   "metadata": {
    "collapsed": false,
    "pycharm": {
     "name": "#%% md\n"
    }
   }
  },
  {
   "cell_type": "markdown",
   "source": [
    "## Daily Emotion"
   ],
   "metadata": {
    "collapsed": false,
    "pycharm": {
     "name": "#%% md\n"
    }
   }
  },
  {
   "cell_type": "code",
   "execution_count": 163,
   "outputs": [],
   "source": [
    "### Number of Daily emotion records\n"
   ],
   "metadata": {
    "collapsed": false,
    "pycharm": {
     "name": "#%%\n"
    }
   }
  },
  {
   "cell_type": "code",
   "execution_count": 164,
   "outputs": [
    {
     "name": "stdout",
     "output_type": "stream",
     "text": [
      "total daily emotion records:  18\n"
     ]
    }
   ],
   "source": [
    "\n",
    "unique_pairs = df_clean.PAIR.nunique()\n",
    "print(\"total daily emotion records: \", unique_pairs)"
   ],
   "metadata": {
    "collapsed": false,
    "pycharm": {
     "name": "#%%\n"
    }
   }
  },
  {
   "cell_type": "markdown",
   "source": [
    "### Daily emotion scores"
   ],
   "metadata": {
    "collapsed": false,
    "pycharm": {
     "name": "#%% md\n"
    }
   }
  },
  {
   "cell_type": "code",
   "execution_count": 165,
   "outputs": [
    {
     "name": "stdout",
     "output_type": "stream",
     "text": [
      "total positive morning:  14\n",
      "total negative morning:  4\n",
      "total positive night:  12\n",
      "total negative night:  6\n"
     ]
    }
   ],
   "source": [
    "\n",
    "# count number of times day started positive\n",
    "#df.loc[(df['col1'] == value) & (df['col2'] < value)]\n",
    "pos_start_day = len(df_clean.loc[(df_clean.SCORE_DIFFERENCE > 0) & (df_clean.WHEN_RECORDED == 'Beginning of Day')])\n",
    "neg_start_day = unique_pairs - pos_start_day\n",
    "print(\"total positive morning: \", pos_start_day)\n",
    "print(\"total negative morning: \", neg_start_day)\n",
    "\n",
    "pos_end_day = len(df_clean.loc[(df_clean.SCORE_DIFFERENCE > 0) & (df_clean.WHEN_RECORDED == 'End of Day')])\n",
    "neg_end_day = unique_pairs - pos_end_day\n",
    "print(\"total positive night: \", pos_end_day)\n",
    "print(\"total negative night: \", neg_end_day)\n",
    "\n",
    "#print(df_clean.sort_values(['PAIR','TIMESTAMP']))\n",
    "#print(df_clean[['TIMESTAMP','SCORE_DIFFERENCE']].diff())\n",
    "\n",
    "\n"
   ],
   "metadata": {
    "collapsed": false,
    "pycharm": {
     "name": "#%%\n"
    }
   }
  },
  {
   "cell_type": "markdown",
   "source": [
    "### Differences in consecutive PANAS ratings"
   ],
   "metadata": {
    "collapsed": false,
    "pycharm": {
     "name": "#%% md\n"
    }
   }
  },
  {
   "cell_type": "code",
   "execution_count": 166,
   "outputs": [
    {
     "name": "stdout",
     "output_type": "stream",
     "text": [
      "#Participants whose end of day total emotion had reduced since start of day:  14\n",
      "#Participants whose start of day total emotion had increased since end of previous day:  12\n"
     ]
    }
   ],
   "source": [
    "#now look at differences between start and end of day\n",
    "df_clean['DELTA_PREV_DIFFERENCE'] = df_clean[['TIMESTAMP','SCORE_DIFFERENCE']].diff()['SCORE_DIFFERENCE']\n",
    "#print(df_clean[['PAIR','WHEN_RECORDED','SCORE_DIFFERENCE','DELTA_PREV_DIFFERENCE']])\n",
    "print('#Participants whose end of day total emotion had reduced since start of day: ', len(df_clean.loc[(df_clean.WHEN_RECORDED =='End of Day') & (df_clean.DELTA_PREV_DIFFERENCE <0)]))\n",
    "\n",
    "# and differences from start of day and end of previous night\n",
    "print('#Participants whose start of day total emotion had increased since end of previous day: ', len(df_clean.loc[(df_clean.WHEN_RECORDED =='Beginning of Day') & (df_clean.DELTA_PREV_DIFFERENCE >0)]))\n",
    "\n"
   ],
   "metadata": {
    "collapsed": false,
    "pycharm": {
     "name": "#%%\n"
    }
   }
  },
  {
   "cell_type": "markdown",
   "source": [
    "### Sleep distribution"
   ],
   "metadata": {
    "collapsed": false,
    "pycharm": {
     "name": "#%% md\n"
    }
   }
  },
  {
   "cell_type": "code",
   "execution_count": 167,
   "outputs": [
    {
     "name": "stdout",
     "output_type": "stream",
     "text": [
      "Sleep distribution: avg 6.87, std 0.8788829809011249\n"
     ]
    }
   ],
   "source": [
    "\n",
    "print(\"Sleep distribution: avg {}, std {}\".format(str(df_clean.SLEEP.mean()), str(df_clean.SLEEP.std())))\n"
   ],
   "metadata": {
    "collapsed": false,
    "pycharm": {
     "name": "#%%\n"
    }
   }
  },
  {
   "cell_type": "code",
   "execution_count": 168,
   "outputs": [],
   "source": [
    "# save the cleaned up data along with the emotion differences\n",
    "df_clean.to_csv('../clean_daily_emotion.csv', index=False)"
   ],
   "metadata": {
    "collapsed": false,
    "pycharm": {
     "name": "#%%\n"
    }
   }
  },
  {
   "cell_type": "markdown",
   "source": [
    "## Experience Sample Data"
   ],
   "metadata": {
    "collapsed": false,
    "pycharm": {
     "name": "#%% md\n"
    }
   }
  },
  {
   "cell_type": "code",
   "execution_count": 169,
   "outputs": [],
   "source": [
    "# now analyse the experience sample data\n",
    "df_exp = pd.read_csv(\"../data/experience_sample_data.csv\",parse_dates=['Timestamp'], date_parser=dateparse)\n",
    "\n",
    "exp_variable_dict = {'Timestamp':'TIMESTAMP','Personal ID':'ID','Before-After break pairings':'PAIR','Before / After a break':'RELATION_BEAK','Duration of break activity (MINUTES)':'BREAK_DURATION', 'Current Perceived Stress Level':\"PERCEIVED_STRESS\",'Current Actual Stress Level':'GARMIN_STRESS','Activity Prior to Break Activity':'ACTIVITY_PRIOR_BREAK','Details of Break Activity':'BREAK_DETAILS','Was the break physically active?':'BREAK_PHYSICAL','Was the break indoors or outdoors?':'BREAK_LOCATION','Was the break alone or social?':'BREAK_SOCIAL','If it involved an electronic device, provide details':'BREAK_ELECTRONIC_DEVICE','Do you think the break activity helped?':'BREAK_HELPED','Date and Time of activity':'ACTUAL_ACTIVITY_TIME','Arousal/Valence [Aroused 2]':'AROUSAL_2','Arousal/Valence [Aroused 1]':'AROUSAL_1','Arousal/Valence [Aroused 0]':'AROUSAL_0','Arousal/Valence [Aroused -1]':'AROUSAL_-1','Arousal/Valence [Arousal_-2]':'AROUSAL_-2','Adjectives / feelings':'FEELINGS','Why are you taking a break or why did you take a break?':'BREAK_REASON'}\n",
    "\n",
    "# update columns names and remove the empty columns\n",
    "df_clean_exp = df_exp.rename(columns=exp_variable_dict)\n",
    "df_clean_exp.dropna(how='all', axis=1, inplace=True)\n",
    "\n"
   ],
   "metadata": {
    "collapsed": false,
    "pycharm": {
     "name": "#%%\n"
    }
   }
  },
  {
   "cell_type": "markdown",
   "source": [
    "### Unique before/after reports"
   ],
   "metadata": {
    "collapsed": false,
    "pycharm": {
     "name": "#%% md\n"
    }
   }
  },
  {
   "cell_type": "code",
   "execution_count": 170,
   "outputs": [
    {
     "name": "stdout",
     "output_type": "stream",
     "text": [
      "unique pairs of before/after reports:  48\n"
     ]
    }
   ],
   "source": [
    "unique_exp_pairs = df_clean_exp.PAIR.nunique()\n",
    "print(\"unique pairs of before/after reports: \", unique_exp_pairs)\n"
   ],
   "metadata": {
    "collapsed": false,
    "pycharm": {
     "name": "#%%\n"
    }
   }
  },
  {
   "cell_type": "markdown",
   "source": [
    "### Break details"
   ],
   "metadata": {
    "collapsed": false,
    "pycharm": {
     "name": "#%% md\n"
    }
   }
  },
  {
   "cell_type": "code",
   "execution_count": 171,
   "outputs": [
    {
     "name": "stdout",
     "output_type": "stream",
     "text": [
      "Break duration distribution: avg 43.29824561403509, std 30.568988085663772\n"
     ]
    }
   ],
   "source": [
    "# avg break duration\n",
    "print(\"Break duration distribution: avg {}, std {}\".format(str(df_clean_exp.BREAK_DURATION.mean()), str(df_clean_exp.BREAK_DURATION.std())))"
   ],
   "metadata": {
    "collapsed": false,
    "pycharm": {
     "name": "#%%\n"
    }
   }
  },
  {
   "cell_type": "code",
   "execution_count": 172,
   "outputs": [
    {
     "name": "stdout",
     "output_type": "stream",
     "text": [
      "BREAK_PHYSICAL\n",
      "No         24\n",
      "Yes        15\n",
      "Yes, No     1\n",
      "Name: BREAK_PHYSICAL, dtype: int64\n"
     ]
    }
   ],
   "source": [
    "\n",
    "print(df_clean_exp.loc[(df_clean_exp.RELATION_BEAK =='After break')].groupby(['BREAK_PHYSICAL'])['BREAK_PHYSICAL'].count())"
   ],
   "metadata": {
    "collapsed": false,
    "pycharm": {
     "name": "#%%\n"
    }
   }
  },
  {
   "cell_type": "code",
   "execution_count": 173,
   "outputs": [
    {
     "name": "stdout",
     "output_type": "stream",
     "text": [
      "BREAK_SOCIAL\n",
      "Alone                 30\n",
      "Alone, With others     4\n",
      "With others            7\n",
      "Name: BREAK_SOCIAL, dtype: int64\n"
     ]
    }
   ],
   "source": [
    "\n",
    "print(df_clean_exp.loc[(df_clean_exp.RELATION_BEAK =='After break')].groupby(['BREAK_SOCIAL'])['BREAK_SOCIAL'].count())"
   ],
   "metadata": {
    "collapsed": false,
    "pycharm": {
     "name": "#%%\n"
    }
   }
  },
  {
   "cell_type": "code",
   "execution_count": 174,
   "outputs": [
    {
     "name": "stdout",
     "output_type": "stream",
     "text": [
      "BREAK_ELECTRONIC_DEVICE\n",
      "Phone       20\n",
      "Tablet       2\n",
      "computer     8\n",
      "Name: BREAK_ELECTRONIC_DEVICE, dtype: int64\n"
     ]
    }
   ],
   "source": [
    "\n",
    "print(df_clean_exp.loc[(df_clean_exp.RELATION_BEAK =='After break')].groupby(['BREAK_ELECTRONIC_DEVICE'])['BREAK_ELECTRONIC_DEVICE'].count())"
   ],
   "metadata": {
    "collapsed": false,
    "pycharm": {
     "name": "#%%\n"
    }
   }
  },
  {
   "cell_type": "code",
   "execution_count": 175,
   "outputs": [
    {
     "name": "stdout",
     "output_type": "stream",
     "text": [
      "BREAK_PHYSICAL  BREAK_SOCIAL        BREAK_ELECTRONIC_DEVICE\n",
      "No              Alone               Phone                      13\n",
      "                                    computer                    5\n",
      "                Alone, With others  Phone                       3\n",
      "                With others         Phone                       1\n",
      "                                    computer                    1\n",
      "Yes             Alone               Phone                       3\n",
      "                                    Tablet                      2\n",
      "                                    computer                    1\n",
      "Yes, No         Alone               computer                    1\n",
      "Name: BREAK_ELECTRONIC_DEVICE, dtype: int64\n"
     ]
    }
   ],
   "source": [
    "\n",
    "print(df_clean_exp.loc[(df_clean_exp.RELATION_BEAK =='After break')].groupby(['BREAK_PHYSICAL','BREAK_SOCIAL','BREAK_ELECTRONIC_DEVICE'])['BREAK_ELECTRONIC_DEVICE'].count())\n",
    "\n",
    "\n",
    "#print(df_clean_exp.loc[(df_clean_exp.RELATION_BEAK =='After break')].groupby(['BREAK_HELPED'])['BREAK_HELPED'].count())\n"
   ],
   "metadata": {
    "collapsed": false,
    "pycharm": {
     "name": "#%%\n"
    }
   }
  },
  {
   "cell_type": "markdown",
   "source": [
    "### Reported and Perceived Stress Levels"
   ],
   "metadata": {
    "collapsed": false,
    "pycharm": {
     "name": "#%% md\n"
    }
   }
  },
  {
   "cell_type": "code",
   "execution_count": 176,
   "outputs": [
    {
     "name": "stdout",
     "output_type": "stream",
     "text": [
      "PERCEIVED_STRESS  GARMIN_STRESS   \n",
      "High              High (76 - 100)      1\n",
      "                  Rest (0 - 25)        2\n",
      "Low               High (76 - 100)      7\n",
      "                  Low (26 - 50)       22\n",
      "                  Medium (51 - 75)     8\n",
      "                  Rest (0 - 25)       15\n",
      "Medium            High (76 - 100)      4\n",
      "                  Low (26 - 50)       14\n",
      "                  Medium (51 - 75)     6\n",
      "                  Rest (0 - 25)        6\n",
      "Rest              Low (26 - 50)        1\n",
      "                  Medium (51 - 75)     1\n",
      "                  Rest (0 - 25)        7\n",
      "Name: PERCEIVED_STRESS, dtype: int64\n"
     ]
    }
   ],
   "source": [
    "\n",
    "print(df_clean_exp.groupby(['PERCEIVED_STRESS','GARMIN_STRESS'])['PERCEIVED_STRESS'].count())\n"
   ],
   "metadata": {
    "collapsed": false,
    "pycharm": {
     "name": "#%%\n"
    }
   }
  },
  {
   "cell_type": "markdown",
   "source": [
    "### Number breaks reports per day"
   ],
   "metadata": {
    "collapsed": false,
    "pycharm": {
     "name": "#%% md\n"
    }
   }
  },
  {
   "cell_type": "code",
   "execution_count": 177,
   "outputs": [
    {
     "name": "stdout",
     "output_type": "stream",
     "text": [
      "TIMESTAMP\n",
      "2022-05-13     4\n",
      "2022-05-14     2\n",
      "2022-05-15     4\n",
      "2022-05-16    18\n",
      "2022-05-17    12\n",
      "2022-05-18    16\n",
      "2022-05-19     8\n",
      "2022-05-20     6\n",
      "2022-05-21     4\n",
      "2022-05-22     0\n",
      "2022-05-23    16\n",
      "2022-05-24     4\n",
      "Freq: D, Name: TIMESTAMP, dtype: int64\n"
     ]
    }
   ],
   "source": [
    "# number breaks reported per day\n",
    "print(df_clean_exp.groupby(pd.Grouper(key=\"TIMESTAMP\", freq=\"D\"))['TIMESTAMP'].count())"
   ],
   "metadata": {
    "collapsed": false,
    "pycharm": {
     "name": "#%%\n"
    }
   }
  },
  {
   "cell_type": "code",
   "execution_count": 177,
   "outputs": [],
   "source": [],
   "metadata": {
    "collapsed": false,
    "pycharm": {
     "name": "#%%\n"
    }
   }
  },
  {
   "cell_type": "markdown",
   "source": [
    "### Number breaks reports per person"
   ],
   "metadata": {
    "collapsed": false,
    "pycharm": {
     "name": "#%% md\n"
    }
   }
  },
  {
   "cell_type": "code",
   "execution_count": 178,
   "outputs": [
    {
     "name": "stdout",
     "output_type": "stream",
     "text": [
      "ID\n",
      "Cameron     7\n",
      "Jason       7\n",
      "Katie      16\n",
      "VJ          8\n",
      "nadia       8\n",
      "nadia       1\n",
      "Name: ID, dtype: int64\n"
     ]
    }
   ],
   "source": [
    "\n",
    "\n",
    "print(df_clean_exp.loc[(df_clean_exp.RELATION_BEAK =='After break')].groupby(['ID'])['ID'].count())\n",
    "\n",
    "\n"
   ],
   "metadata": {
    "collapsed": false,
    "pycharm": {
     "name": "#%%\n"
    }
   }
  },
  {
   "cell_type": "markdown",
   "source": [],
   "metadata": {
    "collapsed": false,
    "pycharm": {
     "name": "#%% md\n"
    }
   }
  }
 ],
 "metadata": {
  "kernelspec": {
   "display_name": "Python 3",
   "language": "python",
   "name": "python3"
  },
  "language_info": {
   "codemirror_mode": {
    "name": "ipython",
    "version": 2
   },
   "file_extension": ".py",
   "mimetype": "text/x-python",
   "name": "python",
   "nbconvert_exporter": "python",
   "pygments_lexer": "ipython2",
   "version": "2.7.6"
  }
 },
 "nbformat": 4,
 "nbformat_minor": 0
}