{
 "cells": [
  {
   "cell_type": "code",
   "execution_count": 460,
   "metadata": {
    "collapsed": true
   },
   "outputs": [],
   "source": [
    "import pandas as pd\n",
    "import matplotlib.pyplot as plt\n",
    "import numpy as np\n",
    "from matplotlib.dates import DateFormatter\n",
    "from IPython.display import display\n",
    "from datetime import datetime,  timedelta\n",
    "from textblob import TextBlob\n",
    "from textblob.classifiers import NaiveBayesClassifier\n",
    "\n",
    "# Load the PANAS data from the csv file\n",
    "\n",
    "def dateparse(x):\n",
    "\n",
    "    if x and type(x) is str:\n",
    "        return datetime.strptime(x, \"%m/%d/%Y %H:%M:%S\")\n",
    "    else:\n",
    "        return np.nan\n",
    "\n",
    "with open('../data/feelings_training.csv', 'r') as fp:\n",
    "    cl = NaiveBayesClassifier(fp, format=\"csv\")\n",
    "\n",
    "def get_sentiment(x):\n",
    "    if type(x) is str:\n",
    "        return TextBlob(x).sentiment.polarity\n",
    "\n",
    "def get_custom_sentiment(x):\n",
    "    if type(x) is str:\n",
    "        result = cl.classify(x)\n",
    "        if result=='pos':\n",
    "            return 1\n",
    "        elif result == 'neg':\n",
    "            return -1\n",
    "        return 0\n",
    "#dateparse = lambda x:  datetime.strptime(x, \"%m/%d/%Y %H:%M:%S\") if x else np.nan\n",
    "\n",
    "#load dataframe from csv\n",
    "df = pd.read_csv(\"../data/panas_data_new.csv\",parse_dates=['Timestamp'], date_parser=dateparse)\n",
    "\n",
    "variable_dict = {\n",
    "'Timestamp':'TIMESTAMP',\n",
    "'Pair':'PAIR',\n",
    "'Identifier': 'ID',\n",
    "'Time of Day': 'WHEN_RECORDED',\n",
    "'How many hours did you sleep last night? (beginning of day only)':\t'SLEEP',\n",
    "'Upset':'UPSET',\n",
    "'Hostile':'HOSTILE',\n",
    "'Alert':'ALERT',\n",
    "'Ashamed':'ASHAMED',\n",
    "'Inspired': 'INSPIRED',\n",
    "'Nervous':'NERVOUS',\n",
    "'Determined':'DETERMINED',\n",
    "'Attentive':'ATTENTIVE',\n",
    "'Afraid':'AFRAID',\n",
    "'Active':'ACTIVE',\n",
    "'Any comments / thoughts?':'COMMENTS',\n",
    "'Positive':'POSITIVE_SCORE',\n",
    "'Negative':'NEGATIVE_SCORE',\n",
    "'Difference':'SCORE_DIFFERENCE'}\n",
    "\n",
    "df_daily_emotion = df.rename(columns=variable_dict)\n",
    "df_daily_emotion.dropna(how='all', axis=1, inplace=True)\n",
    "\n",
    "# Before getting only the paired data, identify the total number of records\n",
    "total_num_daily_emotion = len(df_daily_emotion)\n",
    "df_daily_emotion = df_daily_emotion.loc[(~df_daily_emotion['PAIR'].isnull())]\n",
    "df_daily_emotion = df_daily_emotion.sort_values(['PAIR','TIMESTAMP'])\n",
    "\n"
   ]
  },
  {
   "cell_type": "markdown",
   "source": [
    "# Descriptive Statistics"
   ],
   "metadata": {
    "collapsed": false,
    "pycharm": {
     "name": "#%% md\n"
    }
   }
  },
  {
   "cell_type": "markdown",
   "source": [
    "## Daily Emotion"
   ],
   "metadata": {
    "collapsed": false,
    "pycharm": {
     "name": "#%% md\n"
    }
   }
  },
  {
   "cell_type": "code",
   "execution_count": 461,
   "outputs": [],
   "source": [
    "### Number of Daily emotion records\n"
   ],
   "metadata": {
    "collapsed": false,
    "pycharm": {
     "name": "#%%\n"
    }
   }
  },
  {
   "cell_type": "code",
   "execution_count": 462,
   "outputs": [
    {
     "name": "stdout",
     "output_type": "stream",
     "text": [
      "total daily emotion records 36\n",
      "total paired start day/end of day daily emotion records 18\n"
     ]
    }
   ],
   "source": [
    "\n",
    "\n",
    "#print(\"total daily emotion records: \", unique_pairs)\n",
    "\n",
    "# want to ignore blank entries for the pairing so get them first\n",
    "\n",
    "pairs_df = df_daily_emotion.groupby(['PAIR']).agg(num_pairs=pd.NamedAgg(column='PAIR', aggfunc='count'))\n",
    "unique_pairs = len(pairs_df.loc[(pairs_df.num_pairs == 2)])\n",
    "\n",
    "print('total daily emotion records', len(df_daily_emotion))\n",
    "print('total paired start day/end of day daily emotion records',unique_pairs)\n",
    "\n",
    "#print('total after break daily emotion records',len(df_clean.loc[(df_clean.WHEN_RECORDED == 'End of Day')]))\n"
   ],
   "metadata": {
    "collapsed": false,
    "pycharm": {
     "name": "#%%\n"
    }
   }
  },
  {
   "cell_type": "markdown",
   "source": [
    "### Daily emotion scores"
   ],
   "metadata": {
    "collapsed": false,
    "pycharm": {
     "name": "#%% md\n"
    }
   }
  },
  {
   "cell_type": "code",
   "execution_count": 463,
   "outputs": [
    {
     "name": "stdout",
     "output_type": "stream",
     "text": [
      "total positive morning:  14\n",
      "total negative morning:  4\n",
      "total positive night:  12\n",
      "total negative night:  6\n"
     ]
    }
   ],
   "source": [
    "\n",
    "# count number of times day started positive\n",
    "#df.loc[(df['col1'] == value) & (df['col2'] < value)]\n",
    "pos_start_day = len(df_daily_emotion.loc[(df_daily_emotion.SCORE_DIFFERENCE > 0) & (df_daily_emotion.WHEN_RECORDED == 'Beginning of Day')])\n",
    "neg_start_day = unique_pairs - pos_start_day\n",
    "print(\"total positive morning: \", pos_start_day)\n",
    "print(\"total negative morning: \", neg_start_day)\n",
    "\n",
    "pos_end_day = len(df_daily_emotion.loc[(df_daily_emotion.SCORE_DIFFERENCE > 0) & (df_daily_emotion.WHEN_RECORDED == 'End of Day')])\n",
    "neg_end_day = unique_pairs - pos_end_day\n",
    "print(\"total positive night: \", pos_end_day)\n",
    "print(\"total negative night: \", neg_end_day)\n",
    "\n",
    "#print(df_clean.sort_values(['PAIR','TIMESTAMP']))\n",
    "#print(df_clean[['TIMESTAMP','SCORE_DIFFERENCE']].diff())\n",
    "\n",
    "\n"
   ],
   "metadata": {
    "collapsed": false,
    "pycharm": {
     "name": "#%%\n"
    }
   }
  },
  {
   "cell_type": "markdown",
   "source": [
    "### Differences in consecutive PANAS ratings"
   ],
   "metadata": {
    "collapsed": false,
    "pycharm": {
     "name": "#%% md\n"
    }
   }
  },
  {
   "cell_type": "code",
   "execution_count": 464,
   "outputs": [
    {
     "name": "stdout",
     "output_type": "stream",
     "text": [
      "#Participants whose end of day total emotion had reduced since start of day:  14\n",
      "#Participants whose start of day total emotion had increased since end of previous day:  12\n",
      "Morning, PANAS Positive Scores: mean    13.111111\n",
      "std      4.470674\n",
      "min      7.000000\n",
      "max     21.000000\n",
      "Name: POSITIVE_SCORE, dtype: float64\n",
      "Morning, PANAS Negative Scores: mean     7.222222\n",
      "std      2.901431\n",
      "min      5.000000\n",
      "max     14.000000\n",
      "Name: NEGATIVE_SCORE, dtype: float64\n",
      "Morning, PANAS Positive-Negative: mean     5.888889\n",
      "std      5.809616\n",
      "min     -3.000000\n",
      "max     16.000000\n",
      "Name: SCORE_DIFFERENCE, dtype: float64\n",
      "Evening, PANAS Positive Scores: mean     9.777778\n",
      "std      2.981424\n",
      "min      5.000000\n",
      "max     14.000000\n",
      "Name: POSITIVE_SCORE, dtype: float64\n",
      "Evening, PANAS Negative Scores: mean     7.388889\n",
      "std      2.872566\n",
      "min      5.000000\n",
      "max     15.000000\n",
      "Name: NEGATIVE_SCORE, dtype: float64\n",
      "Evening, PANAS Positive-Negative: mean    2.388889\n",
      "std     4.031332\n",
      "min    -5.000000\n",
      "max     9.000000\n",
      "Name: SCORE_DIFFERENCE, dtype: float64\n",
      "Evening, Difference to Start Day: mean    -3.500000\n",
      "std      4.003675\n",
      "min    -11.000000\n",
      "max      3.000000\n",
      "Name: DELTA_PREV_DIFFERENCE, dtype: float64\n",
      "Morning, Difference to previous day: mean     3.941176\n",
      "std      4.534184\n",
      "min     -4.000000\n",
      "max     13.000000\n",
      "Name: DELTA_PREV_DIFFERENCE, dtype: float64\n"
     ]
    }
   ],
   "source": [
    "#now look at differences between start and end of day\n",
    "df_daily_emotion['DELTA_PREV_DIFFERENCE'] = df_daily_emotion[['TIMESTAMP','SCORE_DIFFERENCE']].diff()['SCORE_DIFFERENCE']\n",
    "#print(df_clean[['PAIR','WHEN_RECORDED','SCORE_DIFFERENCE','DELTA_PREV_DIFFERENCE']])\n",
    "print('#Participants whose end of day total emotion had reduced since start of day: ', len(df_daily_emotion.loc[(df_daily_emotion.WHEN_RECORDED =='End of Day') & (df_daily_emotion.DELTA_PREV_DIFFERENCE <0)]))\n",
    "\n",
    "# and differences from start of day and end of previous night\n",
    "print('#Participants whose start of day total emotion had increased since end of previous day: ', len(df_daily_emotion.loc[(df_daily_emotion.WHEN_RECORDED =='Beginning of Day') & (df_daily_emotion.DELTA_PREV_DIFFERENCE >0)]))\n",
    "\n",
    "print(\"Morning, PANAS Positive Scores:\",df_daily_emotion.loc[(df_daily_emotion.WHEN_RECORDED =='Beginning of Day')]['POSITIVE_SCORE'].agg({'mean','std','min','max'}))\n",
    "print(\"Morning, PANAS Negative Scores:\",df_daily_emotion.loc[(df_daily_emotion.WHEN_RECORDED =='Beginning of Day')]['NEGATIVE_SCORE'].agg({'mean','std','min','max'}))\n",
    "print(\"Morning, PANAS Positive-Negative:\",df_daily_emotion.loc[(df_daily_emotion.WHEN_RECORDED =='Beginning of Day')]['SCORE_DIFFERENCE'].agg({'mean','std','min','max'}))\n",
    "\n",
    "print(\"Evening, PANAS Positive Scores:\",df_daily_emotion.loc[(df_daily_emotion.WHEN_RECORDED =='End of Day')]['POSITIVE_SCORE'].agg({'mean','std','min','max'}))\n",
    "print(\"Evening, PANAS Negative Scores:\",df_daily_emotion.loc[(df_daily_emotion.WHEN_RECORDED =='End of Day')]['NEGATIVE_SCORE'].agg({'mean','std','min','max'}))\n",
    "print(\"Evening, PANAS Positive-Negative:\",df_daily_emotion.loc[(df_daily_emotion.WHEN_RECORDED =='End of Day')]['SCORE_DIFFERENCE'].agg({'mean','std','min','max'}))\n",
    "\n",
    "\n",
    "print(\"Evening, Difference to Start Day:\",df_daily_emotion.loc[(df_daily_emotion.WHEN_RECORDED =='End of Day')]['DELTA_PREV_DIFFERENCE'].agg({'mean','std','min','max'}))\n",
    "print(\"Morning, Difference to previous day:\",df_daily_emotion.loc[(df_daily_emotion.WHEN_RECORDED =='Beginning of Day')]['DELTA_PREV_DIFFERENCE'].agg({'mean','std','min','max'}))\n",
    "\n"
   ],
   "metadata": {
    "collapsed": false,
    "pycharm": {
     "name": "#%%\n"
    }
   }
  },
  {
   "cell_type": "code",
   "execution_count": 465,
   "outputs": [
    {
     "name": "stdout",
     "output_type": "stream",
     "text": [
      "In morning, Sentiment on comment: mean   -0.040145\n",
      "std     0.272770\n",
      "min    -0.520000\n",
      "max     0.228571\n",
      "Name: SENTIMENT_COMMENTS, dtype: float64\n",
      "In evening, Sentiment on comment: mean   -0.108333\n",
      "std     0.291011\n",
      "min    -0.450000\n",
      "max     0.400000\n",
      "Name: SENTIMENT_COMMENTS, dtype: float64\n"
     ]
    }
   ],
   "source": [
    "\n",
    "df_daily_emotion['SENTIMENT_COMMENTS'] = df_daily_emotion['COMMENTS'].apply(get_sentiment)\n",
    "\n",
    "print(\"In morning, Sentiment on comment:\",df_daily_emotion.loc[(df_daily_emotion.WHEN_RECORDED =='Beginning of Day')]['SENTIMENT_COMMENTS'].agg({'mean','std','min','max'}))\n",
    "\n",
    "print(\"In evening, Sentiment on comment:\",df_daily_emotion.loc[(df_daily_emotion.WHEN_RECORDED =='End of Day')]['SENTIMENT_COMMENTS'].agg({'mean','std','min','max'}))"
   ],
   "metadata": {
    "collapsed": false,
    "pycharm": {
     "name": "#%%\n"
    }
   }
  },
  {
   "cell_type": "markdown",
   "source": [
    "### Sleep distribution"
   ],
   "metadata": {
    "collapsed": false,
    "pycharm": {
     "name": "#%% md\n"
    }
   }
  },
  {
   "cell_type": "code",
   "execution_count": 466,
   "outputs": [
    {
     "name": "stdout",
     "output_type": "stream",
     "text": [
      "Sleep distribution: mean 6.870555555555556, std 0.879414726643754, median 7.0, min 6.0, max 8.0\n"
     ]
    }
   ],
   "source": [
    "\n",
    "print(\"Sleep distribution: mean {}, std {}, median {}, min {}, max {}\".format(str(df_daily_emotion.SLEEP.mean()), str(df_daily_emotion.SLEEP.std()), str(df_daily_emotion.SLEEP.median()), str(df_daily_emotion.SLEEP.min()), str(df_daily_emotion.SLEEP.max())))\n"
   ],
   "metadata": {
    "collapsed": false,
    "pycharm": {
     "name": "#%%\n"
    }
   }
  },
  {
   "cell_type": "code",
   "execution_count": 467,
   "outputs": [],
   "source": [
    "# save the cleaned up data along with the emotion differences\n",
    "df_daily_emotion.to_csv('../data/clean_daily_emotion.csv', index=False)"
   ],
   "metadata": {
    "collapsed": false,
    "pycharm": {
     "name": "#%%\n"
    }
   }
  },
  {
   "cell_type": "markdown",
   "source": [
    "## Experience Sample Data"
   ],
   "metadata": {
    "collapsed": false,
    "pycharm": {
     "name": "#%% md\n"
    }
   }
  },
  {
   "cell_type": "code",
   "execution_count": 468,
   "outputs": [],
   "source": [
    "# now analyse the experience sample data\n",
    "df_exp = pd.read_csv(\"../data/experience_sample_data_new.csv\",parse_dates=[ 'Timestamp','Date and Time of activity'], date_parser=dateparse)\n",
    "\n",
    "exp_variable_dict = {'Timestamp':'TIMESTAMP','Personal ID':'ID','Before-After break pairings':'PAIR','Before / After a break':'RELATION_BEAK','Duration of break activity (MINUTES)':'BREAK_DURATION', 'Current Perceived Stress Level':\"PERCEIVED_STRESS\",'Current Actual Stress Level':'GARMIN_STRESS','Activity Prior to Break Activity':'ACTIVITY_PRIOR_BREAK','Details of Break Activity':'BREAK_DETAILS','Was the break physically active?':'BREAK_PHYSICAL','Was the break indoors or outdoors?':'BREAK_LOCATION','Was the break alone or social?':'BREAK_SOCIAL','If it involved an electronic device, provide details':'BREAK_ELECTRONIC_DEVICE','Do you think the break activity helped?':'BREAK_HELPED','Date and Time of activity':'ACTUAL_ACTIVITY_TIME','Arousal/Valence [Aroused 2]':'AROUSAL_2','Arousal/Valence [Aroused 1]':'AROUSAL_1','Arousal/Valence [Aroused 0]':'AROUSAL_0','Arousal/Valence [Aroused -1]':'AROUSAL_-1','Arousal/Valence [Aroused -2]':'AROUSAL_-2','Adjectives / feelings':'FEELINGS','Why are you taking a break or why did you take a break?':'BREAK_REASON'}\n",
    "\n",
    "# update columns names and remove the empty columns\n",
    "df_clean_exp = df_exp.rename(columns=exp_variable_dict)\n",
    "df_clean_exp.dropna(how='all', axis=1, inplace=True)\n",
    "df_clean_exp['BREAK_ELECTRONIC_DEVICE'] = df_clean_exp['BREAK_ELECTRONIC_DEVICE'].replace(np.nan, '-')\n",
    "df_clean_exp['BREAK_PHYSICAL'] = df_clean_exp['BREAK_PHYSICAL'].replace(np.nan, '-')\n",
    "df_clean_exp['BREAK_LOCATION'] = df_clean_exp['BREAK_LOCATION'].replace(np.nan, '-')\n",
    "df_clean_exp['BREAK_SOCIAL'] = df_clean_exp['BREAK_SOCIAL'].replace(np.nan, '-')\n",
    "df_clean_exp = df_clean_exp.replace('High (76 - 100)',4)\n",
    "df_clean_exp = df_clean_exp.replace('Medium (51 - 75)',3)\n",
    "df_clean_exp = df_clean_exp.replace('Low (26 - 50)',2)\n",
    "df_clean_exp = df_clean_exp.replace('Rest (0 - 25)',1)\n",
    "df_clean_exp = df_clean_exp.replace('High',4)\n",
    "df_clean_exp = df_clean_exp.replace('Medium',2)\n",
    "df_clean_exp = df_clean_exp.replace('Low',2)\n",
    "df_clean_exp = df_clean_exp.replace('Rest',1)\n",
    "df_clean_exp = df_clean_exp.replace('Valence 2',2)\n",
    "df_clean_exp = df_clean_exp.replace('Valence 1',1)\n",
    "df_clean_exp = df_clean_exp.replace('Valence 0',0)\n",
    "df_clean_exp = df_clean_exp.replace('Valence -1',-1)\n",
    "df_clean_exp = df_clean_exp.replace('Valence -2',-2)\n",
    "\n",
    "\n",
    "\n",
    "\n"
   ],
   "metadata": {
    "collapsed": false,
    "pycharm": {
     "name": "#%%\n"
    }
   }
  },
  {
   "cell_type": "markdown",
   "source": [
    "### Unique before/after reports"
   ],
   "metadata": {
    "collapsed": false,
    "pycharm": {
     "name": "#%% md\n"
    }
   }
  },
  {
   "cell_type": "code",
   "execution_count": 469,
   "outputs": [
    {
     "name": "stdout",
     "output_type": "stream",
     "text": [
      "total number of records:  110\n",
      "unique pairs of before/after records:  45\n",
      "total after break records: 54\n"
     ]
    }
   ],
   "source": [
    "pairs_exp_df = df_clean_exp.groupby(['PAIR']).agg(num_pairs=pd.NamedAgg(column='PAIR', aggfunc='count'))\n",
    "unique_exp_pairs = len(pairs_exp_df.loc[(pairs_exp_df.num_pairs == 2)])\n",
    "\n",
    "print(\"total number of records: \", len(df_clean_exp))\n",
    "print(\"unique pairs of before/after records: \", unique_exp_pairs)\n",
    "print(\"total after break records:\", len(df_clean_exp.loc[(df_clean_exp.RELATION_BEAK =='After break')]))\n",
    "\n",
    "\n"
   ],
   "metadata": {
    "collapsed": false,
    "pycharm": {
     "name": "#%%\n"
    }
   }
  },
  {
   "cell_type": "markdown",
   "source": [
    "### Break details"
   ],
   "metadata": {
    "collapsed": false,
    "pycharm": {
     "name": "#%% md\n"
    }
   }
  },
  {
   "cell_type": "code",
   "execution_count": 490,
   "outputs": [
    {
     "name": "stdout",
     "output_type": "stream",
     "text": [
      "Break duration (minutes) distribution: mean 43.15942028985507, std 30.100626917648487, median 30.0, min 5.0, max 120.0\n"
     ]
    },
    {
     "data": {
      "text/plain": "<Figure size 432x288 with 1 Axes>",
      "image/png": "[encoded data removed]"
     },
     "metadata": {
      "needs_background": "light"
     },
     "output_type": "display_data"
    }
   ],
   "source": [
    "# avg break duration\n",
    "print(\"Break duration (minutes) distribution: mean {}, std {}, median {}, min {}, max {}\".format(str(df_clean_exp.BREAK_DURATION.mean()), str(df_clean_exp.BREAK_DURATION.std()), str(df_clean_exp.BREAK_DURATION.median()), str(df_clean_exp.BREAK_DURATION.min()), str(df_clean_exp.BREAK_DURATION.max())))\n",
    "\n",
    "bins=[ -5, 0, 5, 10, 15, 20, 25, 30, 35, 40, 45, 50, 55, 60, 120, 150]\n",
    "\n",
    "df['duration_bin'] = pd.cut(df_clean_exp.loc[(df_clean_exp.RELATION_BEAK =='After break')]['BREAK_DURATION'], bins)\n",
    "#print(df_clean_exp.loc[(df_clean_exp.RELATION_BEAK =='After break')]['BREAK_DURATION'])\n",
    "#print(df['duration_bin'].value_counts())\n",
    "\n",
    "ax = df_clean_exp.loc[(df_clean_exp.RELATION_BEAK =='After break')]['BREAK_DURATION'].dropna().hist()\n",
    "\n",
    "\n",
    "\n",
    "#ax.set_title('')\n",
    "#ax.set_xlabel(\"Duration\", labelpad=20, weight='bold', size=12)\n",
    "#ax.set_ylabel(\"Number breaks\", labelpad=20, weight='bold', size=12)\n",
    "plt.xlabel(\"Duration\")\n",
    "plt.ylabel(\"Number breaks\")\n",
    "plt.savefig('../data/break_duration_hist.png')"
   ],
   "metadata": {
    "collapsed": false,
    "pycharm": {
     "name": "#%%\n"
    }
   }
  },
  {
   "cell_type": "code",
   "execution_count": 486,
   "outputs": [
    {
     "name": "stdout",
     "output_type": "stream",
     "text": [
      "total non-zero physical or not records: 46\n",
      "\n",
      "BREAK_PHYSICAL\n",
      "No         63.043478\n",
      "Yes        34.782609\n",
      "Yes, No     2.173913\n",
      "Name: BREAK_PHYSICAL, dtype: float64\n"
     ]
    }
   ],
   "source": [
    "# %age of breaks that involve physical activity\n",
    "total_physical = len(df_clean_exp.loc[(df_clean_exp.RELATION_BEAK =='After break') & (df_clean_exp.BREAK_PHYSICAL !='-')])\n",
    "\n",
    "print(\"total non-zero physical or not records:\", total_physical)\n",
    "\n",
    "print()\n",
    "\n",
    "print(df_clean_exp.loc[(df_clean_exp.RELATION_BEAK =='After break') & (df_clean_exp.BREAK_PHYSICAL !='-')].groupby(['BREAK_PHYSICAL'])['BREAK_PHYSICAL'].count().div(total_physical)*100)\n"
   ],
   "metadata": {
    "collapsed": false,
    "pycharm": {
     "name": "#%%\n"
    }
   }
  },
  {
   "cell_type": "code",
   "execution_count": 472,
   "outputs": [
    {
     "name": "stdout",
     "output_type": "stream",
     "text": [
      "total non-zero social records: 48\n",
      "\n",
      "%age breakdown of whether break was with others or not\n",
      "\n",
      "BREAK_SOCIAL\n",
      "Alone                 75.000000\n",
      "Alone, With others    10.416667\n",
      "With others           14.583333\n",
      "Name: BREAK_SOCIAL, dtype: float64\n"
     ]
    }
   ],
   "source": [
    "#%age breaks that are alone or with others\n",
    "total_social = len(df_clean_exp.loc[(df_clean_exp.RELATION_BEAK =='After break') & (df_clean_exp.BREAK_SOCIAL !='-')])\n",
    "print(\"total non-zero social records:\", total_social)\n",
    "print()\n",
    "print(\"%age breakdown of whether break was with others or not\\n\")\n",
    "print(df_clean_exp.loc[(df_clean_exp.RELATION_BEAK =='After break') & (df_clean_exp.BREAK_SOCIAL !='-')].groupby(['BREAK_SOCIAL'])['BREAK_SOCIAL'].count().div(total_social)*100)"
   ],
   "metadata": {
    "collapsed": false,
    "pycharm": {
     "name": "#%%\n"
    }
   }
  },
  {
   "cell_type": "code",
   "execution_count": 473,
   "outputs": [
    {
     "name": "stdout",
     "output_type": "stream",
     "text": [
      "total non-zero electronic records: 37\n",
      "\n",
      "%age of all breaks involving electronic devices: 77.08333333333334\n",
      "\n",
      "%age breakdown of type of electronic device used\n",
      "\n",
      "BREAK_ELECTRONIC_DEVICE\n",
      "Phone       70.270270\n",
      "Tablet       5.405405\n",
      "computer    24.324324\n",
      "Name: BREAK_ELECTRONIC_DEVICE, dtype: float64\n"
     ]
    }
   ],
   "source": [
    "# %age breaks that involve an electronic device\n",
    "total_electronic = len(df_clean_exp.loc[(df_clean_exp.RELATION_BEAK =='After break') & (df_clean_exp.BREAK_ELECTRONIC_DEVICE !='-')])\n",
    "\n",
    "print(\"total non-zero electronic records:\", total_electronic)\n",
    "print()\n",
    "print(\"%age of all breaks involving electronic devices:\" ,total_electronic/total_social*100)\n",
    "print()\n",
    "print(\"%age breakdown of type of electronic device used\\n\")\n",
    "print(df_clean_exp.loc[(df_clean_exp.RELATION_BEAK =='After break') & (df_clean_exp.BREAK_ELECTRONIC_DEVICE !='-')].groupby(['BREAK_ELECTRONIC_DEVICE'])['BREAK_ELECTRONIC_DEVICE'].count().div(total_electronic)*100)"
   ],
   "metadata": {
    "collapsed": false,
    "pycharm": {
     "name": "#%%\n"
    }
   }
  },
  {
   "cell_type": "code",
   "execution_count": 473,
   "outputs": [],
   "source": [],
   "metadata": {
    "collapsed": false,
    "pycharm": {
     "name": "#%%\n"
    }
   }
  },
  {
   "cell_type": "markdown",
   "source": [],
   "metadata": {
    "collapsed": false,
    "pycharm": {
     "name": "#%% md\n"
    }
   }
  },
  {
   "cell_type": "code",
   "execution_count": 474,
   "outputs": [
    {
     "name": "stdout",
     "output_type": "stream",
     "text": [
      "%age breakdown of break location\n",
      "\n",
      "BREAK_LOCATION\n",
      "Indoors                          60.416667\n",
      "Mixture of indoor and outdoor    14.583333\n",
      "Outdoors                         25.000000\n",
      "Name: BREAK_LOCATION, dtype: float64\n"
     ]
    }
   ],
   "source": [
    "# %age breaks by location (indoors, outdoors, both)\n",
    "total_location = len(df_clean_exp.loc[(df_clean_exp.RELATION_BEAK =='After break') & (df_clean_exp.BREAK_LOCATION !='-')])\n",
    "\n",
    "print(\"%age breakdown of break location\\n\")\n",
    "print(df_clean_exp.loc[(df_clean_exp.RELATION_BEAK =='After break') & (df_clean_exp.BREAK_LOCATION !='-')].groupby(['BREAK_LOCATION'])['BREAK_LOCATION'].count().div(total_location)*100)"
   ],
   "metadata": {
    "collapsed": false,
    "pycharm": {
     "name": "#%%\n"
    }
   }
  },
  {
   "cell_type": "code",
   "execution_count": 475,
   "outputs": [
    {
     "name": "stdout",
     "output_type": "stream",
     "text": [
      "Combination of break categories as %age of total breaks\n",
      "BREAK_PHYSICAL  BREAK_LOCATION                 BREAK_SOCIAL        BREAK_ELECTRONIC_DEVICE\n",
      "No              Indoors                        Alone               Phone                      23.913043\n",
      "                                                                   computer                   10.869565\n",
      "                                               Alone, With others  Phone                       6.521739\n",
      "                                               With others         Phone                       2.173913\n",
      "                                                                   computer                    2.173913\n",
      "                Mixture of indoor and outdoor  Alone               Phone                       2.173913\n",
      "                                                                   computer                    2.173913\n",
      "                Outdoors                       Alone               Phone                      10.869565\n",
      "                                               With others         -                           2.173913\n",
      "Yes             Indoors                        Alone               -                           2.173913\n",
      "                                                                   Phone                       2.173913\n",
      "                                                                   Tablet                      4.347826\n",
      "                                                                   computer                    2.173913\n",
      "                Mixture of indoor and outdoor  Alone               -                           2.173913\n",
      "                                               Alone, With others  -                           2.173913\n",
      "                                                                   Phone                       2.173913\n",
      "                                               With others         -                           4.347826\n",
      "                Outdoors                       Alone               -                           4.347826\n",
      "                                                                   Phone                       4.347826\n",
      "                                               With others         -                           4.347826\n",
      "Yes, No         Indoors                        Alone               computer                    2.173913\n",
      "Name: % Breaks, dtype: float64\n"
     ]
    }
   ],
   "source": [
    "df_clean_exp['BREAK_ELECTRONIC_DEVICE'] = df_clean_exp['BREAK_ELECTRONIC_DEVICE'].replace(np.nan, '-')\n",
    "df_clean_exp['BREAK_PHYSICAL'] = df_clean_exp['BREAK_PHYSICAL'].replace(np.nan, '-')\n",
    "df_clean_exp['BREAK_LOCATION'] = df_clean_exp['BREAK_LOCATION'].replace(np.nan, '-')\n",
    "df_clean_exp['BREAK_SOCIAL'] = df_clean_exp['BREAK_SOCIAL'].replace(np.nan, '-')\n",
    "\n",
    "#print(df_clean_exp.loc[(df_clean_exp.RELATION_BEAK =='After break')].groupby(['BREAK_PHYSICAL','BREAK_LOCATION','BREAK_SOCIAL','BREAK_ELECTRONIC_DEVICE'], dropna=False)['BREAK_ELECTRONIC_DEVICE'].count())\n",
    "\n",
    "table = pd.pivot_table(data=df_clean_exp.loc[(df_clean_exp.RELATION_BEAK =='After break') & (df_clean_exp.BREAK_PHYSICAL !='-')],index=['BREAK_PHYSICAL','BREAK_LOCATION','BREAK_SOCIAL','BREAK_ELECTRONIC_DEVICE'], values=['ID'],aggfunc='count', dropna=True)\n",
    "\n",
    "table['% Breaks'] = (table['ID']/table['ID'].sum())*100\n",
    "\n",
    "print(\"Combination of break categories as %age of total breaks\")\n",
    "\n",
    "print(table['% Breaks'])"
   ],
   "metadata": {
    "collapsed": false,
    "pycharm": {
     "name": "#%%\n"
    }
   }
  },
  {
   "cell_type": "markdown",
   "source": [
    "### Reported and Perceived Stress Levels"
   ],
   "metadata": {
    "collapsed": false,
    "pycharm": {
     "name": "#%% md\n"
    }
   }
  },
  {
   "cell_type": "code",
   "execution_count": 476,
   "outputs": [
    {
     "name": "stdout",
     "output_type": "stream",
     "text": [
      "PERCEIVED_STRESS  GARMIN_STRESS\n",
      "1                 1                10\n",
      "                  2                 1\n",
      "                  3                 1\n",
      "2                 1                24\n",
      "                  2                41\n",
      "                  3                15\n",
      "                  4                14\n",
      "4                 1                 2\n",
      "                  3                 1\n",
      "                  4                 1\n",
      "Name: PERCEIVED_STRESS, dtype: int64\n",
      "Before Break, Perceived Stress: mean    2.071429\n",
      "std     0.499350\n",
      "min     1.000000\n",
      "max     4.000000\n",
      "Name: PERCEIVED_STRESS, dtype: float64\n",
      "After Break, Perceived Stress: mean    1.851852\n",
      "std     0.491720\n",
      "min     1.000000\n",
      "max     4.000000\n",
      "Name: PERCEIVED_STRESS, dtype: float64\n",
      "Before Break, Garmin Stress: mean    2.125000\n",
      "std     0.935414\n",
      "min     1.000000\n",
      "max     4.000000\n",
      "Name: GARMIN_STRESS, dtype: float64\n",
      "After Break, Garmin Stress: mean    2.074074\n",
      "std     1.096338\n",
      "min     1.000000\n",
      "max     4.000000\n",
      "Name: GARMIN_STRESS, dtype: float64\n"
     ]
    }
   ],
   "source": [
    "\n",
    "print(df_clean_exp.groupby(['PERCEIVED_STRESS','GARMIN_STRESS'])['PERCEIVED_STRESS'].count())\n",
    "\n",
    "print(\"Before Break, Perceived Stress:\", df_clean_exp.loc[(df_clean_exp.RELATION_BEAK =='Before break')]['PERCEIVED_STRESS'].agg({'mean','std','min','max'}))\n",
    "print(\"After Break, Perceived Stress:\",df_clean_exp.loc[(df_clean_exp.RELATION_BEAK =='After break')]['PERCEIVED_STRESS'].agg({'mean','std','min','max'}))\n",
    "print(\"Before Break, Garmin Stress:\",df_clean_exp.loc[(df_clean_exp.RELATION_BEAK =='Before break')]['GARMIN_STRESS'].agg({'mean','std','min','max'}))\n",
    "print(\"After Break, Garmin Stress:\",df_clean_exp.loc[(df_clean_exp.RELATION_BEAK =='After break')]['GARMIN_STRESS'].agg({'mean','std','min','max'}))\n"
   ],
   "metadata": {
    "collapsed": false,
    "pycharm": {
     "name": "#%%\n"
    }
   }
  },
  {
   "cell_type": "markdown",
   "source": [
    "### Number breaks reports per day"
   ],
   "metadata": {
    "collapsed": false,
    "pycharm": {
     "name": "#%% md\n"
    }
   }
  },
  {
   "cell_type": "code",
   "execution_count": 477,
   "outputs": [
    {
     "name": "stdout",
     "output_type": "stream",
     "text": [
      "TIMESTAMP   ID     \n",
      "2022-05-13  Cameron    1\n",
      "            Katie      1\n",
      "2022-05-14  nadia      1\n",
      "2022-05-15  nadia      2\n",
      "2022-05-16  Cameron    2\n",
      "            Katie      4\n",
      "            VJ         2\n",
      "            nadia      3\n",
      "2022-05-17  Cameron    1\n",
      "            Katie      3\n",
      "            VJ         1\n",
      "            nadia      1\n",
      "            nadia      1\n",
      "2022-05-18  Cameron    1\n",
      "            Jason      2\n",
      "            Katie      4\n",
      "            VJ         1\n",
      "            nadia      1\n",
      "2022-05-19  Cameron    1\n",
      "            Jason      3\n",
      "            Katie      2\n",
      "2022-05-20  Jason      2\n",
      "            Katie      1\n",
      "2022-05-21  VJ         2\n",
      "2022-05-23  Cameron    2\n",
      "            Jason      1\n",
      "            Katie      4\n",
      "            VJ         2\n",
      "2022-05-24  Cameron    1\n",
      "            Jason      1\n",
      "Name: TIMESTAMP, dtype: int64\n"
     ]
    }
   ],
   "source": [
    "# number breaks reported per day\n",
    "print(df_clean_exp.loc[(df_clean_exp.RELATION_BEAK =='After break')].groupby([pd.Grouper(key=\"TIMESTAMP\", freq=\"D\"), 'ID'])['TIMESTAMP'].count())"
   ],
   "metadata": {
    "collapsed": false,
    "pycharm": {
     "name": "#%%\n"
    }
   }
  },
  {
   "cell_type": "code",
   "execution_count": 477,
   "outputs": [],
   "source": [],
   "metadata": {
    "collapsed": false,
    "pycharm": {
     "name": "#%%\n"
    }
   }
  },
  {
   "cell_type": "markdown",
   "source": [
    "### Number after breaks reports per person"
   ],
   "metadata": {
    "collapsed": false,
    "pycharm": {
     "name": "#%% md\n"
    }
   }
  },
  {
   "cell_type": "code",
   "execution_count": 491,
   "outputs": [
    {
     "name": "stdout",
     "output_type": "stream",
     "text": [
      "Break Start Time: mean    14.574074\n",
      "std      4.328937\n",
      "min      2.000000\n",
      "max     23.000000\n",
      "Name: HOURS, dtype: float64\n"
     ]
    },
    {
     "data": {
      "text/plain": "<Figure size 432x288 with 0 Axes>"
     },
     "metadata": {},
     "output_type": "display_data"
    },
    {
     "data": {
      "text/plain": "<Figure size 432x288 with 1 Axes>",
      "image/png": "[encoded data removed]"
     },
     "metadata": {
      "needs_background": "light"
     },
     "output_type": "display_data"
    }
   ],
   "source": [
    "# Look at distribution of when in the day teh break took place\n",
    "def calc_actual_activity_start_time(df_calc, x):\n",
    "\n",
    "    duration = max(0, df_calc.iloc[x]['BREAK_DURATION'])\n",
    "\n",
    "    break_time = df_calc.iloc[x]['ACTUAL_ACTIVITY_TIME'] if (df_calc.iloc[x]['ACTUAL_ACTIVITY_TIME'] and str(df_calc.iloc[x]['ACTUAL_ACTIVITY_TIME']) != 'NaT') else df_calc.iloc[x]['TIMESTAMP']\n",
    "\n",
    "    # now just get the time part of the date and subtract the duration to get the start time\n",
    "    start_time = break_time + timedelta(minutes = duration)\n",
    "    return start_time\n",
    "\n",
    "def calc_activity_start_time(df_calc):\n",
    "\n",
    "    result = []\n",
    "    for x in range(len(df_calc)):\n",
    "        result.append(calc_actual_activity_start_time(df_calc,x))\n",
    "    return result\n",
    "\n",
    "df_clean_exp['ACTIVITY_START_TIME'] = calc_activity_start_time(df_clean_exp)\n",
    "\n",
    "df_clean_exp['HOURS'] = df_clean_exp[\"ACTIVITY_START_TIME\"].dt.hour\n",
    "\n",
    "print(\"Break Start Time:\",df_clean_exp.loc[(df_clean_exp.RELATION_BEAK =='After break')]['HOURS'].agg({'mean','std','min','max'}))\n",
    "\n",
    "plt.clf()\n",
    "axarr = df_clean_exp.loc[(df_clean_exp.RELATION_BEAK =='After break')].hist(column='HOURS', legend=False)\n",
    "\n",
    "#ax = axarr[0]\n",
    "#for x in ax:\n",
    "#    x.set_title('')\n",
    "#    x.set_xlabel(\"Time of Day\", labelpad=20, weight='bold', size=12)\n",
    "#    x.set_ylabel(\"Number breaks\", labelpad=20, weight='bold', size=12)\n",
    "\n",
    "plt.xlabel(\"Time of day\")\n",
    "plt.ylabel(\"Number breaks\")\n",
    "plt.savefig('../data/break_starttime_hist.png')"
   ],
   "metadata": {
    "collapsed": false,
    "pycharm": {
     "name": "#%%\n"
    }
   }
  },
  {
   "cell_type": "code",
   "execution_count": 479,
   "outputs": [
    {
     "name": "stdout",
     "output_type": "stream",
     "text": [
      "ID\n",
      "Cameron     9\n",
      "Jason       9\n",
      "Katie      19\n",
      "VJ          8\n",
      "nadia       8\n",
      "nadia       1\n",
      "Name: ID, dtype: int64\n",
      "total breaks: 54 avg breaks 10.8, std 4.604345773288536, min breaks 1, max breaks 19\n"
     ]
    }
   ],
   "source": [
    "\n",
    "\n",
    "df_participant_group = df_clean_exp.loc[(df_clean_exp.RELATION_BEAK =='After break')].groupby(['ID'])['ID'].agg('count')\n",
    "print(df_participant_group)\n",
    "total_break_participant =df_participant_group.sum()\n",
    "avg_break_participant = df_participant_group.sum()/5\n",
    "max_break = df_participant_group.max()\n",
    "min_break = df_participant_group.min()\n",
    "std_dev = pd.DataFrame({'A':[9,9,19,8,9]}).A.std()\n",
    "print(\"total breaks: {} avg breaks {}, std {}, min breaks {}, max breaks {}\".format(total_break_participant, avg_break_participant, str(std_dev), min_break, max_break))\n",
    "\n",
    "\n",
    "\n"
   ],
   "metadata": {
    "collapsed": false,
    "pycharm": {
     "name": "#%%\n"
    }
   }
  },
  {
   "cell_type": "code",
   "execution_count": 480,
   "outputs": [],
   "source": [
    "## Sentiment analysis"
   ],
   "metadata": {
    "collapsed": false,
    "pycharm": {
     "name": "#%%\n"
    }
   }
  },
  {
   "cell_type": "code",
   "execution_count": 480,
   "outputs": [],
   "source": [],
   "metadata": {
    "collapsed": false,
    "pycharm": {
     "name": "#%%\n"
    }
   }
  },
  {
   "cell_type": "code",
   "execution_count": 481,
   "outputs": [
    {
     "name": "stdout",
     "output_type": "stream",
     "text": [
      "After Break, Sentiment break helped: mean    0.15400\n",
      "std     0.28687\n",
      "min    -0.60000\n",
      "max     0.80000\n",
      "Name: SENTIMENT_BREAK_HELPED, dtype: float64\n",
      "Sentiment distribution before break:\n",
      "Before Break, Sentiment feelings: mean   -0.090909\n",
      "std     1.005038\n",
      "min    -1.000000\n",
      "max     1.000000\n",
      "Name: SENTIMENT_FEELINGS, dtype: float64\n",
      "After Break, Sentiment feelings: mean    0.592593\n",
      "std     0.813066\n",
      "min    -1.000000\n",
      "max     1.000000\n",
      "Name: SENTIMENT_FEELINGS, dtype: float64\n"
     ]
    }
   ],
   "source": [
    "\n",
    "df_sentiment = df_clean_exp['BREAK_HELPED'].apply(get_sentiment)\n",
    "\n",
    "df_clean_exp['SENTIMENT_BREAK_HELPED'] = df_clean_exp['BREAK_HELPED'].apply(get_sentiment)\n",
    "\n",
    "# now calc the average sentiment, and the std deviation, ignore NaN\n",
    "print(\"After Break, Sentiment break helped:\",df_clean_exp.loc[(df_clean_exp.RELATION_BEAK =='After break')]['SENTIMENT_BREAK_HELPED'].agg({'mean','std','min','max'}))\n",
    "\n",
    "df_clean_exp['SENTIMENT_FEELINGS'] = df_clean_exp['FEELINGS'].apply(get_custom_sentiment)\n",
    "\n",
    "# now calc the average sentiment, and the std deviation, ignore NaN\n",
    "print(\"Sentiment distribution before break:\".format(str(df_clean_exp.loc[(df_clean_exp.RELATION_BEAK =='Before break')].SENTIMENT_FEELINGS.mean()), str(df_clean_exp.loc[(df_clean_exp.RELATION_BEAK =='Before break')].SENTIMENT_FEELINGS.std())))\n",
    "\n",
    "print(\"Before Break, Sentiment feelings:\",df_clean_exp.loc[(df_clean_exp.RELATION_BEAK =='Before break')]['SENTIMENT_FEELINGS'].agg({'mean','std','min','max'}))\n",
    "print(\"After Break, Sentiment feelings:\",df_clean_exp.loc[(df_clean_exp.RELATION_BEAK =='After break')]['SENTIMENT_FEELINGS'].agg({'mean','std','min','max'}))\n",
    "\n",
    "df_clean_exp.to_csv('../data/clean_experience_sample.csv', index=False)\n"
   ],
   "metadata": {
    "collapsed": false,
    "pycharm": {
     "name": "#%%\n"
    }
   }
  },
  {
   "cell_type": "code",
   "execution_count": 482,
   "outputs": [
    {
     "name": "stdout",
     "output_type": "stream",
     "text": [
      "Before Break, Arousal: mean    0.418182\n",
      "std     1.149733\n",
      "min    -2.000000\n",
      "max     2.000000\n",
      "Name: AROUSAL, dtype: float64\n",
      "After Break, Arousal: mean    0.018519\n",
      "std     1.236104\n",
      "min    -2.000000\n",
      "max     2.000000\n",
      "Name: AROUSAL, dtype: float64\n",
      "Before Break, Valence: mean    0.018182\n",
      "std     1.096981\n",
      "min    -2.000000\n",
      "max     2.000000\n",
      "Name: VALENCE, dtype: float64\n",
      "After Break, Valence: mean    0.537037\n",
      "std     0.905183\n",
      "min    -2.000000\n",
      "max     2.000000\n",
      "Name: VALENCE, dtype: float64\n"
     ]
    }
   ],
   "source": [
    "# now calculate the arousal and valence\n",
    "# need to first get hold of the data\n",
    "def calc_cols(df_calc, cols, x, is_index):\n",
    "    for index, col_name in enumerate(cols):\n",
    "        if (df_calc.iloc[x][col_name])>=-2:\n",
    "            #print(index, col_name, x, df_calc.iloc[x][col_name])\n",
    "            return index-2 if is_index else df_calc.iloc[x][col_name]\n",
    "\n",
    "    return np.nan\n",
    "\n",
    "def calc_valence_or_arousal(df_calc, valence):\n",
    "    cols = ['AROUSAL_-2', 'AROUSAL_-1', 'AROUSAL_0','AROUSAL_1','AROUSAL_2']\n",
    "    result = []\n",
    "    for x in range(len(df_calc)):\n",
    "        result.append(calc_cols(df_calc,cols,x,False if valence else True))\n",
    "    return result\n",
    "\n",
    "def calc_valence(df_calc):\n",
    "    return calc_valence_or_arousal(df_calc, True)\n",
    "\n",
    "def calc_arousal(df_calc):\n",
    "      return calc_valence_or_arousal(df_calc, False)\n",
    "\n",
    "\n",
    "df_clean_exp[\"AROUSAL\"] = calc_arousal(df_clean_exp)\n",
    "df_clean_exp[\"VALENCE\"] = calc_valence(df_clean_exp)\n",
    "\n",
    "print(\"Before Break, Arousal:\",df_clean_exp.loc[(df_clean_exp.RELATION_BEAK =='Before break')]['AROUSAL'].agg({'mean','std','min','max'}))\n",
    "print(\"After Break, Arousal:\",df_clean_exp.loc[(df_clean_exp.RELATION_BEAK =='After break')]['AROUSAL'].agg({'mean','std','min','max'}))\n",
    "\n",
    "print(\"Before Break, Valence:\",df_clean_exp.loc[(df_clean_exp.RELATION_BEAK =='Before break')]['VALENCE'].agg({'mean','std','min','max'}))\n",
    "print(\"After Break, Valence:\",df_clean_exp.loc[(df_clean_exp.RELATION_BEAK =='After break')]['VALENCE'].agg({'mean','std','min','max'}))\n",
    "\n",
    "\n",
    "\n",
    "\n"
   ],
   "metadata": {
    "collapsed": false,
    "pycharm": {
     "name": "#%%\n"
    }
   }
  },
  {
   "cell_type": "markdown",
   "source": [],
   "metadata": {
    "collapsed": false,
    "pycharm": {
     "name": "#%% md\n"
    }
   }
  }
 ],
 "metadata": {
  "kernelspec": {
   "display_name": "Python 3",
   "language": "python",
   "name": "python3"
  },
  "language_info": {
   "codemirror_mode": {
    "name": "ipython",
    "version": 2
   },
   "file_extension": ".py",
   "mimetype": "text/x-python",
   "name": "python",
   "nbconvert_exporter": "python",
   "pygments_lexer": "ipython2",
   "version": "2.7.6"
  }
 },
 "nbformat": 4,
 "nbformat_minor": 0
}